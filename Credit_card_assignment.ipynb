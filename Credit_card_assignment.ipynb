{
  "nbformat": 4,
  "nbformat_minor": 0,
  "metadata": {
    "colab": {
      "name": "Credit card assignment.ipynb",
      "provenance": [],
      "collapsed_sections": [],
      "authorship_tag": "ABX9TyOquU1v0P72uTMfgkWu5/yC",
      "include_colab_link": true
    },
    "kernelspec": {
      "name": "python3",
      "display_name": "Python 3"
    },
    "language_info": {
      "name": "python"
    }
  },
  "cells": [
    {
      "cell_type": "markdown",
      "metadata": {
        "id": "view-in-github",
        "colab_type": "text"
      },
      "source": [
        "<a href=\"https://colab.research.google.com/github/subhan215/deep-learning-assignment/blob/main/Credit_card_assignment.ipynb\" target=\"_parent\"><img src=\"https://colab.research.google.com/assets/colab-badge.svg\" alt=\"Open In Colab\"/></a>"
      ]
    },
    {
      "cell_type": "markdown",
      "metadata": {
        "id": "hFpeAd5T2HfA"
      },
      "source": [
        "# Credit Card Fraud Detection::\n",
        "Download dataset from this link:\n",
        "\n",
        "https://www.kaggle.com/mlg-ulb/creditcardfraud\n",
        "\n",
        "Description about dataset::\n",
        "The datasets contains transactions made by credit cards in September 2013 by european cardholders. This dataset presents transactions that occurred in two days, where we have 492 frauds out of 284,807 transactions. The dataset is highly unbalanced, the positive class (frauds) account for 0.172% of all transactions.\n",
        "\n",
        "It contains only numerical input variables which are the result of a PCA transformation. Unfortunately, due to confidentiality issues, we cannot provide the original features and more background information about the data. Features V1, V2, … V28 are the principal components obtained with PCA, the only features which have not been transformed with PCA are 'Time' and 'Amount'. Feature 'Time' contains the seconds elapsed between each transaction and the first transaction in the dataset. The feature 'Amount' is the transaction Amount, this feature can be used for example-dependant cost-senstive learning.\n",
        "\n",
        "Feature 'Class' is the response variable and it takes value 1 in case of fraud and 0 otherwise.\n",
        "# WORKFLOW :\n",
        "1.Load Data\n",
        "\n",
        "2.Check Missing Values ( If Exist ; Fill each record with mean of its feature )\n",
        "\n",
        "3.Standardized the Input Variables.\n",
        "\n",
        "4.Split into 50% Training(Samples,Labels) , 30% Test(Samples,Labels) and 20% Validation Data(Samples,Labels).\n",
        "\n",
        "5.Model : input Layer (No. of features ), 3 hidden layers including 10,8,6 unit & Output Layer with activation function relu/tanh (check by experiment).\n",
        "\n",
        "6.Compilation Step (Note : Its a Binary problem , select loss , metrics according to it)\n",
        "\n",
        "7.Train the Model with Epochs (100).\n",
        "\n",
        "8.If the model gets overfit tune your model by changing the units , No. of layers , epochs , add dropout layer or add Regularizer according to the need .\n",
        "\n",
        "9.Prediction should be > 92% 10.Evaluation Step 11Prediction\n",
        "\n",
        "# Task::\n",
        "# Identify fraudulent credit card transactions."
      ]
    },
    {
      "cell_type": "code",
      "metadata": {
        "id": "JLCokT9b3ZH-"
      },
      "source": [
        "import numpy as np\n",
        "import pandas as pd\n",
        "from keras import models\n",
        "from keras import layers"
      ],
      "execution_count": 1,
      "outputs": []
    },
    {
      "cell_type": "code",
      "metadata": {
        "colab": {
          "resources": {
            "http://localhost:8080/nbextensions/google.colab/files.js": {
              "data": "Ly8gQ29weXJpZ2h0IDIwMTcgR29vZ2xlIExMQwovLwovLyBMaWNlbnNlZCB1bmRlciB0aGUgQXBhY2hlIExpY2Vuc2UsIFZlcnNpb24gMi4wICh0aGUgIkxpY2Vuc2UiKTsKLy8geW91IG1heSBub3QgdXNlIHRoaXMgZmlsZSBleGNlcHQgaW4gY29tcGxpYW5jZSB3aXRoIHRoZSBMaWNlbnNlLgovLyBZb3UgbWF5IG9idGFpbiBhIGNvcHkgb2YgdGhlIExpY2Vuc2UgYXQKLy8KLy8gICAgICBodHRwOi8vd3d3LmFwYWNoZS5vcmcvbGljZW5zZXMvTElDRU5TRS0yLjAKLy8KLy8gVW5sZXNzIHJlcXVpcmVkIGJ5IGFwcGxpY2FibGUgbGF3IG9yIGFncmVlZCB0byBpbiB3cml0aW5nLCBzb2Z0d2FyZQovLyBkaXN0cmlidXRlZCB1bmRlciB0aGUgTGljZW5zZSBpcyBkaXN0cmlidXRlZCBvbiBhbiAiQVMgSVMiIEJBU0lTLAovLyBXSVRIT1VUIFdBUlJBTlRJRVMgT1IgQ09ORElUSU9OUyBPRiBBTlkgS0lORCwgZWl0aGVyIGV4cHJlc3Mgb3IgaW1wbGllZC4KLy8gU2VlIHRoZSBMaWNlbnNlIGZvciB0aGUgc3BlY2lmaWMgbGFuZ3VhZ2UgZ292ZXJuaW5nIHBlcm1pc3Npb25zIGFuZAovLyBsaW1pdGF0aW9ucyB1bmRlciB0aGUgTGljZW5zZS4KCi8qKgogKiBAZmlsZW92ZXJ2aWV3IEhlbHBlcnMgZm9yIGdvb2dsZS5jb2xhYiBQeXRob24gbW9kdWxlLgogKi8KKGZ1bmN0aW9uKHNjb3BlKSB7CmZ1bmN0aW9uIHNwYW4odGV4dCwgc3R5bGVBdHRyaWJ1dGVzID0ge30pIHsKICBjb25zdCBlbGVtZW50ID0gZG9jdW1lbnQuY3JlYXRlRWxlbWVudCgnc3BhbicpOwogIGVsZW1lbnQudGV4dENvbnRlbnQgPSB0ZXh0OwogIGZvciAoY29uc3Qga2V5IG9mIE9iamVjdC5rZXlzKHN0eWxlQXR0cmlidXRlcykpIHsKICAgIGVsZW1lbnQuc3R5bGVba2V5XSA9IHN0eWxlQXR0cmlidXRlc1trZXldOwogIH0KICByZXR1cm4gZWxlbWVudDsKfQoKLy8gTWF4IG51bWJlciBvZiBieXRlcyB3aGljaCB3aWxsIGJlIHVwbG9hZGVkIGF0IGEgdGltZS4KY29uc3QgTUFYX1BBWUxPQURfU0laRSA9IDEwMCAqIDEwMjQ7CgpmdW5jdGlvbiBfdXBsb2FkRmlsZXMoaW5wdXRJZCwgb3V0cHV0SWQpIHsKICBjb25zdCBzdGVwcyA9IHVwbG9hZEZpbGVzU3RlcChpbnB1dElkLCBvdXRwdXRJZCk7CiAgY29uc3Qgb3V0cHV0RWxlbWVudCA9IGRvY3VtZW50LmdldEVsZW1lbnRCeUlkKG91dHB1dElkKTsKICAvLyBDYWNoZSBzdGVwcyBvbiB0aGUgb3V0cHV0RWxlbWVudCB0byBtYWtlIGl0IGF2YWlsYWJsZSBmb3IgdGhlIG5leHQgY2FsbAogIC8vIHRvIHVwbG9hZEZpbGVzQ29udGludWUgZnJvbSBQeXRob24uCiAgb3V0cHV0RWxlbWVudC5zdGVwcyA9IHN0ZXBzOwoKICByZXR1cm4gX3VwbG9hZEZpbGVzQ29udGludWUob3V0cHV0SWQpOwp9CgovLyBUaGlzIGlzIHJvdWdobHkgYW4gYXN5bmMgZ2VuZXJhdG9yIChub3Qgc3VwcG9ydGVkIGluIHRoZSBicm93c2VyIHlldCksCi8vIHdoZXJlIHRoZXJlIGFyZSBtdWx0aXBsZSBhc3luY2hyb25vdXMgc3RlcHMgYW5kIHRoZSBQeXRob24gc2lkZSBpcyBnb2luZwovLyB0byBwb2xsIGZvciBjb21wbGV0aW9uIG9mIGVhY2ggc3RlcC4KLy8gVGhpcyB1c2VzIGEgUHJvbWlzZSB0byBibG9jayB0aGUgcHl0aG9uIHNpZGUgb24gY29tcGxldGlvbiBvZiBlYWNoIHN0ZXAsCi8vIHRoZW4gcGFzc2VzIHRoZSByZXN1bHQgb2YgdGhlIHByZXZpb3VzIHN0ZXAgYXMgdGhlIGlucHV0IHRvIHRoZSBuZXh0IHN0ZXAuCmZ1bmN0aW9uIF91cGxvYWRGaWxlc0NvbnRpbnVlKG91dHB1dElkKSB7CiAgY29uc3Qgb3V0cHV0RWxlbWVudCA9IGRvY3VtZW50LmdldEVsZW1lbnRCeUlkKG91dHB1dElkKTsKICBjb25zdCBzdGVwcyA9IG91dHB1dEVsZW1lbnQuc3RlcHM7CgogIGNvbnN0IG5leHQgPSBzdGVwcy5uZXh0KG91dHB1dEVsZW1lbnQubGFzdFByb21pc2VWYWx1ZSk7CiAgcmV0dXJuIFByb21pc2UucmVzb2x2ZShuZXh0LnZhbHVlLnByb21pc2UpLnRoZW4oKHZhbHVlKSA9PiB7CiAgICAvLyBDYWNoZSB0aGUgbGFzdCBwcm9taXNlIHZhbHVlIHRvIG1ha2UgaXQgYXZhaWxhYmxlIHRvIHRoZSBuZXh0CiAgICAvLyBzdGVwIG9mIHRoZSBnZW5lcmF0b3IuCiAgICBvdXRwdXRFbGVtZW50Lmxhc3RQcm9taXNlVmFsdWUgPSB2YWx1ZTsKICAgIHJldHVybiBuZXh0LnZhbHVlLnJlc3BvbnNlOwogIH0pOwp9CgovKioKICogR2VuZXJhdG9yIGZ1bmN0aW9uIHdoaWNoIGlzIGNhbGxlZCBiZXR3ZWVuIGVhY2ggYXN5bmMgc3RlcCBvZiB0aGUgdXBsb2FkCiAqIHByb2Nlc3MuCiAqIEBwYXJhbSB7c3RyaW5nfSBpbnB1dElkIEVsZW1lbnQgSUQgb2YgdGhlIGlucHV0IGZpbGUgcGlja2VyIGVsZW1lbnQuCiAqIEBwYXJhbSB7c3RyaW5nfSBvdXRwdXRJZCBFbGVtZW50IElEIG9mIHRoZSBvdXRwdXQgZGlzcGxheS4KICogQHJldHVybiB7IUl0ZXJhYmxlPCFPYmplY3Q+fSBJdGVyYWJsZSBvZiBuZXh0IHN0ZXBzLgogKi8KZnVuY3Rpb24qIHVwbG9hZEZpbGVzU3RlcChpbnB1dElkLCBvdXRwdXRJZCkgewogIGNvbnN0IGlucHV0RWxlbWVudCA9IGRvY3VtZW50LmdldEVsZW1lbnRCeUlkKGlucHV0SWQpOwogIGlucHV0RWxlbWVudC5kaXNhYmxlZCA9IGZhbHNlOwoKICBjb25zdCBvdXRwdXRFbGVtZW50ID0gZG9jdW1lbnQuZ2V0RWxlbWVudEJ5SWQob3V0cHV0SWQpOwogIG91dHB1dEVsZW1lbnQuaW5uZXJIVE1MID0gJyc7CgogIGNvbnN0IHBpY2tlZFByb21pc2UgPSBuZXcgUHJvbWlzZSgocmVzb2x2ZSkgPT4gewogICAgaW5wdXRFbGVtZW50LmFkZEV2ZW50TGlzdGVuZXIoJ2NoYW5nZScsIChlKSA9PiB7CiAgICAgIHJlc29sdmUoZS50YXJnZXQuZmlsZXMpOwogICAgfSk7CiAgfSk7CgogIGNvbnN0IGNhbmNlbCA9IGRvY3VtZW50LmNyZWF0ZUVsZW1lbnQoJ2J1dHRvbicpOwogIGlucHV0RWxlbWVudC5wYXJlbnRFbGVtZW50LmFwcGVuZENoaWxkKGNhbmNlbCk7CiAgY2FuY2VsLnRleHRDb250ZW50ID0gJ0NhbmNlbCB1cGxvYWQnOwogIGNvbnN0IGNhbmNlbFByb21pc2UgPSBuZXcgUHJvbWlzZSgocmVzb2x2ZSkgPT4gewogICAgY2FuY2VsLm9uY2xpY2sgPSAoKSA9PiB7CiAgICAgIHJlc29sdmUobnVsbCk7CiAgICB9OwogIH0pOwoKICAvLyBXYWl0IGZvciB0aGUgdXNlciB0byBwaWNrIHRoZSBmaWxlcy4KICBjb25zdCBmaWxlcyA9IHlpZWxkIHsKICAgIHByb21pc2U6IFByb21pc2UucmFjZShbcGlja2VkUHJvbWlzZSwgY2FuY2VsUHJvbWlzZV0pLAogICAgcmVzcG9uc2U6IHsKICAgICAgYWN0aW9uOiAnc3RhcnRpbmcnLAogICAgfQogIH07CgogIGNhbmNlbC5yZW1vdmUoKTsKCiAgLy8gRGlzYWJsZSB0aGUgaW5wdXQgZWxlbWVudCBzaW5jZSBmdXJ0aGVyIHBpY2tzIGFyZSBub3QgYWxsb3dlZC4KICBpbnB1dEVsZW1lbnQuZGlzYWJsZWQgPSB0cnVlOwoKICBpZiAoIWZpbGVzKSB7CiAgICByZXR1cm4gewogICAgICByZXNwb25zZTogewogICAgICAgIGFjdGlvbjogJ2NvbXBsZXRlJywKICAgICAgfQogICAgfTsKICB9CgogIGZvciAoY29uc3QgZmlsZSBvZiBmaWxlcykgewogICAgY29uc3QgbGkgPSBkb2N1bWVudC5jcmVhdGVFbGVtZW50KCdsaScpOwogICAgbGkuYXBwZW5kKHNwYW4oZmlsZS5uYW1lLCB7Zm9udFdlaWdodDogJ2JvbGQnfSkpOwogICAgbGkuYXBwZW5kKHNwYW4oCiAgICAgICAgYCgke2ZpbGUudHlwZSB8fCAnbi9hJ30pIC0gJHtmaWxlLnNpemV9IGJ5dGVzLCBgICsKICAgICAgICBgbGFzdCBtb2RpZmllZDogJHsKICAgICAgICAgICAgZmlsZS5sYXN0TW9kaWZpZWREYXRlID8gZmlsZS5sYXN0TW9kaWZpZWREYXRlLnRvTG9jYWxlRGF0ZVN0cmluZygpIDoKICAgICAgICAgICAgICAgICAgICAgICAgICAgICAgICAgICAgJ24vYSd9IC0gYCkpOwogICAgY29uc3QgcGVyY2VudCA9IHNwYW4oJzAlIGRvbmUnKTsKICAgIGxpLmFwcGVuZENoaWxkKHBlcmNlbnQpOwoKICAgIG91dHB1dEVsZW1lbnQuYXBwZW5kQ2hpbGQobGkpOwoKICAgIGNvbnN0IGZpbGVEYXRhUHJvbWlzZSA9IG5ldyBQcm9taXNlKChyZXNvbHZlKSA9PiB7CiAgICAgIGNvbnN0IHJlYWRlciA9IG5ldyBGaWxlUmVhZGVyKCk7CiAgICAgIHJlYWRlci5vbmxvYWQgPSAoZSkgPT4gewogICAgICAgIHJlc29sdmUoZS50YXJnZXQucmVzdWx0KTsKICAgICAgfTsKICAgICAgcmVhZGVyLnJlYWRBc0FycmF5QnVmZmVyKGZpbGUpOwogICAgfSk7CiAgICAvLyBXYWl0IGZvciB0aGUgZGF0YSB0byBiZSByZWFkeS4KICAgIGxldCBmaWxlRGF0YSA9IHlpZWxkIHsKICAgICAgcHJvbWlzZTogZmlsZURhdGFQcm9taXNlLAogICAgICByZXNwb25zZTogewogICAgICAgIGFjdGlvbjogJ2NvbnRpbnVlJywKICAgICAgfQogICAgfTsKCiAgICAvLyBVc2UgYSBjaHVua2VkIHNlbmRpbmcgdG8gYXZvaWQgbWVzc2FnZSBzaXplIGxpbWl0cy4gU2VlIGIvNjIxMTU2NjAuCiAgICBsZXQgcG9zaXRpb24gPSAwOwogICAgd2hpbGUgKHBvc2l0aW9uIDwgZmlsZURhdGEuYnl0ZUxlbmd0aCkgewogICAgICBjb25zdCBsZW5ndGggPSBNYXRoLm1pbihmaWxlRGF0YS5ieXRlTGVuZ3RoIC0gcG9zaXRpb24sIE1BWF9QQVlMT0FEX1NJWkUpOwogICAgICBjb25zdCBjaHVuayA9IG5ldyBVaW50OEFycmF5KGZpbGVEYXRhLCBwb3NpdGlvbiwgbGVuZ3RoKTsKICAgICAgcG9zaXRpb24gKz0gbGVuZ3RoOwoKICAgICAgY29uc3QgYmFzZTY0ID0gYnRvYShTdHJpbmcuZnJvbUNoYXJDb2RlLmFwcGx5KG51bGwsIGNodW5rKSk7CiAgICAgIHlpZWxkIHsKICAgICAgICByZXNwb25zZTogewogICAgICAgICAgYWN0aW9uOiAnYXBwZW5kJywKICAgICAgICAgIGZpbGU6IGZpbGUubmFtZSwKICAgICAgICAgIGRhdGE6IGJhc2U2NCwKICAgICAgICB9LAogICAgICB9OwogICAgICBwZXJjZW50LnRleHRDb250ZW50ID0KICAgICAgICAgIGAke01hdGgucm91bmQoKHBvc2l0aW9uIC8gZmlsZURhdGEuYnl0ZUxlbmd0aCkgKiAxMDApfSUgZG9uZWA7CiAgICB9CiAgfQoKICAvLyBBbGwgZG9uZS4KICB5aWVsZCB7CiAgICByZXNwb25zZTogewogICAgICBhY3Rpb246ICdjb21wbGV0ZScsCiAgICB9CiAgfTsKfQoKc2NvcGUuZ29vZ2xlID0gc2NvcGUuZ29vZ2xlIHx8IHt9OwpzY29wZS5nb29nbGUuY29sYWIgPSBzY29wZS5nb29nbGUuY29sYWIgfHwge307CnNjb3BlLmdvb2dsZS5jb2xhYi5fZmlsZXMgPSB7CiAgX3VwbG9hZEZpbGVzLAogIF91cGxvYWRGaWxlc0NvbnRpbnVlLAp9Owp9KShzZWxmKTsK",
              "ok": true,
              "headers": [
                [
                  "content-type",
                  "application/javascript"
                ]
              ],
              "status": 200,
              "status_text": ""
            }
          },
          "base_uri": "https://localhost:8080/",
          "height": 72
        },
        "id": "EbfOeLnCllp2",
        "outputId": "e5f3c95e-f404-48c5-a80f-2068a5c244d7"
      },
      "source": [
        "from google.colab import files\n",
        "uploaded = files.upload()"
      ],
      "execution_count": 2,
      "outputs": [
        {
          "output_type": "display_data",
          "data": {
            "text/html": [
              "\n",
              "     <input type=\"file\" id=\"files-b8cdcd37-0c3d-4ad3-8efe-38e081fa2f20\" name=\"files[]\" multiple disabled\n",
              "        style=\"border:none\" />\n",
              "     <output id=\"result-b8cdcd37-0c3d-4ad3-8efe-38e081fa2f20\">\n",
              "      Upload widget is only available when the cell has been executed in the\n",
              "      current browser session. Please rerun this cell to enable.\n",
              "      </output>\n",
              "      <script src=\"/nbextensions/google.colab/files.js\"></script> "
            ],
            "text/plain": [
              "<IPython.core.display.HTML object>"
            ]
          },
          "metadata": {
            "tags": []
          }
        },
        {
          "output_type": "stream",
          "text": [
            "Saving creditcard.csv to creditcard (1).csv\n"
          ],
          "name": "stdout"
        }
      ]
    },
    {
      "cell_type": "code",
      "metadata": {
        "id": "3Vz23NRH4BfK"
      },
      "source": [
        "import io"
      ],
      "execution_count": 3,
      "outputs": []
    },
    {
      "cell_type": "code",
      "metadata": {
        "id": "4a_SgIDA4GcJ"
      },
      "source": [
        "import pandas as pd\n",
        "data = pd.read_csv(io.BytesIO(uploaded['creditcard.csv']))"
      ],
      "execution_count": 74,
      "outputs": []
    },
    {
      "cell_type": "code",
      "metadata": {
        "colab": {
          "base_uri": "https://localhost:8080/",
          "height": 439
        },
        "id": "Rs3kdzXb4Ve0",
        "outputId": "0418d087-0225-4bf6-9c35-135b7db1a238"
      },
      "source": [
        "data"
      ],
      "execution_count": 75,
      "outputs": [
        {
          "output_type": "execute_result",
          "data": {
            "text/html": [
              "<div>\n",
              "<style scoped>\n",
              "    .dataframe tbody tr th:only-of-type {\n",
              "        vertical-align: middle;\n",
              "    }\n",
              "\n",
              "    .dataframe tbody tr th {\n",
              "        vertical-align: top;\n",
              "    }\n",
              "\n",
              "    .dataframe thead th {\n",
              "        text-align: right;\n",
              "    }\n",
              "</style>\n",
              "<table border=\"1\" class=\"dataframe\">\n",
              "  <thead>\n",
              "    <tr style=\"text-align: right;\">\n",
              "      <th></th>\n",
              "      <th>Time</th>\n",
              "      <th>V1</th>\n",
              "      <th>V2</th>\n",
              "      <th>V3</th>\n",
              "      <th>V4</th>\n",
              "      <th>V5</th>\n",
              "      <th>V6</th>\n",
              "      <th>V7</th>\n",
              "      <th>V8</th>\n",
              "      <th>V9</th>\n",
              "      <th>V10</th>\n",
              "      <th>V11</th>\n",
              "      <th>V12</th>\n",
              "      <th>V13</th>\n",
              "      <th>V14</th>\n",
              "      <th>V15</th>\n",
              "      <th>V16</th>\n",
              "      <th>V17</th>\n",
              "      <th>V18</th>\n",
              "      <th>V19</th>\n",
              "      <th>V20</th>\n",
              "      <th>V21</th>\n",
              "      <th>V22</th>\n",
              "      <th>V23</th>\n",
              "      <th>V24</th>\n",
              "      <th>V25</th>\n",
              "      <th>V26</th>\n",
              "      <th>V27</th>\n",
              "      <th>V28</th>\n",
              "      <th>Amount</th>\n",
              "      <th>Class</th>\n",
              "    </tr>\n",
              "  </thead>\n",
              "  <tbody>\n",
              "    <tr>\n",
              "      <th>0</th>\n",
              "      <td>0.0</td>\n",
              "      <td>-1.360</td>\n",
              "      <td>-0.073</td>\n",
              "      <td>2.536</td>\n",
              "      <td>1.378</td>\n",
              "      <td>-0.338</td>\n",
              "      <td>0.462</td>\n",
              "      <td>0.240</td>\n",
              "      <td>0.099</td>\n",
              "      <td>0.364</td>\n",
              "      <td>0.091</td>\n",
              "      <td>-0.552</td>\n",
              "      <td>-0.618</td>\n",
              "      <td>-0.991</td>\n",
              "      <td>-0.311</td>\n",
              "      <td>1.468</td>\n",
              "      <td>-0.470</td>\n",
              "      <td>0.208</td>\n",
              "      <td>0.026</td>\n",
              "      <td>0.404</td>\n",
              "      <td>0.251</td>\n",
              "      <td>-0.018</td>\n",
              "      <td>0.278</td>\n",
              "      <td>-0.110</td>\n",
              "      <td>0.067</td>\n",
              "      <td>0.129</td>\n",
              "      <td>-0.189</td>\n",
              "      <td>0.134</td>\n",
              "      <td>-0.021</td>\n",
              "      <td>149.62</td>\n",
              "      <td>0</td>\n",
              "    </tr>\n",
              "    <tr>\n",
              "      <th>1</th>\n",
              "      <td>0.0</td>\n",
              "      <td>1.192</td>\n",
              "      <td>0.266</td>\n",
              "      <td>0.166</td>\n",
              "      <td>0.448</td>\n",
              "      <td>0.060</td>\n",
              "      <td>-0.082</td>\n",
              "      <td>-0.079</td>\n",
              "      <td>0.085</td>\n",
              "      <td>-0.255</td>\n",
              "      <td>-0.167</td>\n",
              "      <td>1.613</td>\n",
              "      <td>1.065</td>\n",
              "      <td>0.489</td>\n",
              "      <td>-0.144</td>\n",
              "      <td>0.636</td>\n",
              "      <td>0.464</td>\n",
              "      <td>-0.115</td>\n",
              "      <td>-0.183</td>\n",
              "      <td>-0.146</td>\n",
              "      <td>-0.069</td>\n",
              "      <td>-0.226</td>\n",
              "      <td>-0.639</td>\n",
              "      <td>0.101</td>\n",
              "      <td>-0.340</td>\n",
              "      <td>0.167</td>\n",
              "      <td>0.126</td>\n",
              "      <td>-0.009</td>\n",
              "      <td>0.015</td>\n",
              "      <td>2.69</td>\n",
              "      <td>0</td>\n",
              "    </tr>\n",
              "    <tr>\n",
              "      <th>2</th>\n",
              "      <td>1.0</td>\n",
              "      <td>-1.358</td>\n",
              "      <td>-1.340</td>\n",
              "      <td>1.773</td>\n",
              "      <td>0.380</td>\n",
              "      <td>-0.503</td>\n",
              "      <td>1.800</td>\n",
              "      <td>0.791</td>\n",
              "      <td>0.248</td>\n",
              "      <td>-1.515</td>\n",
              "      <td>0.208</td>\n",
              "      <td>0.625</td>\n",
              "      <td>0.066</td>\n",
              "      <td>0.717</td>\n",
              "      <td>-0.166</td>\n",
              "      <td>2.346</td>\n",
              "      <td>-2.890</td>\n",
              "      <td>1.110</td>\n",
              "      <td>-0.121</td>\n",
              "      <td>-2.262</td>\n",
              "      <td>0.525</td>\n",
              "      <td>0.248</td>\n",
              "      <td>0.772</td>\n",
              "      <td>0.909</td>\n",
              "      <td>-0.689</td>\n",
              "      <td>-0.328</td>\n",
              "      <td>-0.139</td>\n",
              "      <td>-0.055</td>\n",
              "      <td>-0.060</td>\n",
              "      <td>378.66</td>\n",
              "      <td>0</td>\n",
              "    </tr>\n",
              "    <tr>\n",
              "      <th>3</th>\n",
              "      <td>1.0</td>\n",
              "      <td>-0.966</td>\n",
              "      <td>-0.185</td>\n",
              "      <td>1.793</td>\n",
              "      <td>-0.863</td>\n",
              "      <td>-0.010</td>\n",
              "      <td>1.247</td>\n",
              "      <td>0.238</td>\n",
              "      <td>0.377</td>\n",
              "      <td>-1.387</td>\n",
              "      <td>-0.055</td>\n",
              "      <td>-0.226</td>\n",
              "      <td>0.178</td>\n",
              "      <td>0.508</td>\n",
              "      <td>-0.288</td>\n",
              "      <td>-0.631</td>\n",
              "      <td>-1.060</td>\n",
              "      <td>-0.684</td>\n",
              "      <td>1.966</td>\n",
              "      <td>-1.233</td>\n",
              "      <td>-0.208</td>\n",
              "      <td>-0.108</td>\n",
              "      <td>0.005</td>\n",
              "      <td>-0.190</td>\n",
              "      <td>-1.176</td>\n",
              "      <td>0.647</td>\n",
              "      <td>-0.222</td>\n",
              "      <td>0.063</td>\n",
              "      <td>0.061</td>\n",
              "      <td>123.50</td>\n",
              "      <td>0</td>\n",
              "    </tr>\n",
              "    <tr>\n",
              "      <th>4</th>\n",
              "      <td>2.0</td>\n",
              "      <td>-1.158</td>\n",
              "      <td>0.878</td>\n",
              "      <td>1.549</td>\n",
              "      <td>0.403</td>\n",
              "      <td>-0.407</td>\n",
              "      <td>0.096</td>\n",
              "      <td>0.593</td>\n",
              "      <td>-0.271</td>\n",
              "      <td>0.818</td>\n",
              "      <td>0.753</td>\n",
              "      <td>-0.823</td>\n",
              "      <td>0.538</td>\n",
              "      <td>1.346</td>\n",
              "      <td>-1.120</td>\n",
              "      <td>0.175</td>\n",
              "      <td>-0.451</td>\n",
              "      <td>-0.237</td>\n",
              "      <td>-0.038</td>\n",
              "      <td>0.803</td>\n",
              "      <td>0.409</td>\n",
              "      <td>-0.009</td>\n",
              "      <td>0.798</td>\n",
              "      <td>-0.137</td>\n",
              "      <td>0.141</td>\n",
              "      <td>-0.206</td>\n",
              "      <td>0.502</td>\n",
              "      <td>0.219</td>\n",
              "      <td>0.215</td>\n",
              "      <td>69.99</td>\n",
              "      <td>0</td>\n",
              "    </tr>\n",
              "    <tr>\n",
              "      <th>...</th>\n",
              "      <td>...</td>\n",
              "      <td>...</td>\n",
              "      <td>...</td>\n",
              "      <td>...</td>\n",
              "      <td>...</td>\n",
              "      <td>...</td>\n",
              "      <td>...</td>\n",
              "      <td>...</td>\n",
              "      <td>...</td>\n",
              "      <td>...</td>\n",
              "      <td>...</td>\n",
              "      <td>...</td>\n",
              "      <td>...</td>\n",
              "      <td>...</td>\n",
              "      <td>...</td>\n",
              "      <td>...</td>\n",
              "      <td>...</td>\n",
              "      <td>...</td>\n",
              "      <td>...</td>\n",
              "      <td>...</td>\n",
              "      <td>...</td>\n",
              "      <td>...</td>\n",
              "      <td>...</td>\n",
              "      <td>...</td>\n",
              "      <td>...</td>\n",
              "      <td>...</td>\n",
              "      <td>...</td>\n",
              "      <td>...</td>\n",
              "      <td>...</td>\n",
              "      <td>...</td>\n",
              "      <td>...</td>\n",
              "    </tr>\n",
              "    <tr>\n",
              "      <th>284802</th>\n",
              "      <td>172786.0</td>\n",
              "      <td>-11.881</td>\n",
              "      <td>10.072</td>\n",
              "      <td>-9.835</td>\n",
              "      <td>-2.067</td>\n",
              "      <td>-5.364</td>\n",
              "      <td>-2.607</td>\n",
              "      <td>-4.918</td>\n",
              "      <td>7.305</td>\n",
              "      <td>1.914</td>\n",
              "      <td>4.356</td>\n",
              "      <td>-1.593</td>\n",
              "      <td>2.712</td>\n",
              "      <td>-0.689</td>\n",
              "      <td>4.627</td>\n",
              "      <td>-0.924</td>\n",
              "      <td>1.108</td>\n",
              "      <td>1.992</td>\n",
              "      <td>0.511</td>\n",
              "      <td>-0.683</td>\n",
              "      <td>1.476</td>\n",
              "      <td>0.213</td>\n",
              "      <td>0.112</td>\n",
              "      <td>1.014</td>\n",
              "      <td>-0.509</td>\n",
              "      <td>1.437</td>\n",
              "      <td>0.250</td>\n",
              "      <td>0.944</td>\n",
              "      <td>0.824</td>\n",
              "      <td>0.77</td>\n",
              "      <td>0</td>\n",
              "    </tr>\n",
              "    <tr>\n",
              "      <th>284803</th>\n",
              "      <td>172787.0</td>\n",
              "      <td>-0.733</td>\n",
              "      <td>-0.055</td>\n",
              "      <td>2.035</td>\n",
              "      <td>-0.739</td>\n",
              "      <td>0.868</td>\n",
              "      <td>1.058</td>\n",
              "      <td>0.024</td>\n",
              "      <td>0.295</td>\n",
              "      <td>0.585</td>\n",
              "      <td>-0.976</td>\n",
              "      <td>-0.150</td>\n",
              "      <td>0.916</td>\n",
              "      <td>1.215</td>\n",
              "      <td>-0.675</td>\n",
              "      <td>1.165</td>\n",
              "      <td>-0.712</td>\n",
              "      <td>-0.026</td>\n",
              "      <td>-1.221</td>\n",
              "      <td>-1.546</td>\n",
              "      <td>0.060</td>\n",
              "      <td>0.214</td>\n",
              "      <td>0.924</td>\n",
              "      <td>0.012</td>\n",
              "      <td>-1.016</td>\n",
              "      <td>-0.607</td>\n",
              "      <td>-0.395</td>\n",
              "      <td>0.068</td>\n",
              "      <td>-0.054</td>\n",
              "      <td>24.79</td>\n",
              "      <td>0</td>\n",
              "    </tr>\n",
              "    <tr>\n",
              "      <th>284804</th>\n",
              "      <td>172788.0</td>\n",
              "      <td>1.920</td>\n",
              "      <td>-0.301</td>\n",
              "      <td>-3.250</td>\n",
              "      <td>-0.558</td>\n",
              "      <td>2.631</td>\n",
              "      <td>3.031</td>\n",
              "      <td>-0.297</td>\n",
              "      <td>0.708</td>\n",
              "      <td>0.432</td>\n",
              "      <td>-0.485</td>\n",
              "      <td>0.412</td>\n",
              "      <td>0.063</td>\n",
              "      <td>-0.184</td>\n",
              "      <td>-0.511</td>\n",
              "      <td>1.329</td>\n",
              "      <td>0.141</td>\n",
              "      <td>0.314</td>\n",
              "      <td>0.396</td>\n",
              "      <td>-0.577</td>\n",
              "      <td>0.001</td>\n",
              "      <td>0.232</td>\n",
              "      <td>0.578</td>\n",
              "      <td>-0.038</td>\n",
              "      <td>0.640</td>\n",
              "      <td>0.266</td>\n",
              "      <td>-0.087</td>\n",
              "      <td>0.004</td>\n",
              "      <td>-0.027</td>\n",
              "      <td>67.88</td>\n",
              "      <td>0</td>\n",
              "    </tr>\n",
              "    <tr>\n",
              "      <th>284805</th>\n",
              "      <td>172788.0</td>\n",
              "      <td>-0.240</td>\n",
              "      <td>0.530</td>\n",
              "      <td>0.703</td>\n",
              "      <td>0.690</td>\n",
              "      <td>-0.378</td>\n",
              "      <td>0.624</td>\n",
              "      <td>-0.686</td>\n",
              "      <td>0.679</td>\n",
              "      <td>0.392</td>\n",
              "      <td>-0.399</td>\n",
              "      <td>-1.934</td>\n",
              "      <td>-0.963</td>\n",
              "      <td>-1.042</td>\n",
              "      <td>0.450</td>\n",
              "      <td>1.963</td>\n",
              "      <td>-0.609</td>\n",
              "      <td>0.510</td>\n",
              "      <td>1.114</td>\n",
              "      <td>2.898</td>\n",
              "      <td>0.127</td>\n",
              "      <td>0.265</td>\n",
              "      <td>0.800</td>\n",
              "      <td>-0.163</td>\n",
              "      <td>0.123</td>\n",
              "      <td>-0.569</td>\n",
              "      <td>0.547</td>\n",
              "      <td>0.109</td>\n",
              "      <td>0.105</td>\n",
              "      <td>10.00</td>\n",
              "      <td>0</td>\n",
              "    </tr>\n",
              "    <tr>\n",
              "      <th>284806</th>\n",
              "      <td>172792.0</td>\n",
              "      <td>-0.533</td>\n",
              "      <td>-0.190</td>\n",
              "      <td>0.703</td>\n",
              "      <td>-0.506</td>\n",
              "      <td>-0.013</td>\n",
              "      <td>-0.650</td>\n",
              "      <td>1.577</td>\n",
              "      <td>-0.415</td>\n",
              "      <td>0.486</td>\n",
              "      <td>-0.915</td>\n",
              "      <td>-1.040</td>\n",
              "      <td>-0.032</td>\n",
              "      <td>-0.188</td>\n",
              "      <td>-0.084</td>\n",
              "      <td>0.041</td>\n",
              "      <td>-0.303</td>\n",
              "      <td>-0.660</td>\n",
              "      <td>0.167</td>\n",
              "      <td>-0.256</td>\n",
              "      <td>0.383</td>\n",
              "      <td>0.261</td>\n",
              "      <td>0.643</td>\n",
              "      <td>0.377</td>\n",
              "      <td>0.009</td>\n",
              "      <td>-0.474</td>\n",
              "      <td>-0.818</td>\n",
              "      <td>-0.002</td>\n",
              "      <td>0.014</td>\n",
              "      <td>217.00</td>\n",
              "      <td>0</td>\n",
              "    </tr>\n",
              "  </tbody>\n",
              "</table>\n",
              "<p>284807 rows × 31 columns</p>\n",
              "</div>"
            ],
            "text/plain": [
              "            Time      V1      V2     V3  ...    V27    V28  Amount  Class\n",
              "0            0.0  -1.360  -0.073  2.536  ...  0.134 -0.021  149.62      0\n",
              "1            0.0   1.192   0.266  0.166  ... -0.009  0.015    2.69      0\n",
              "2            1.0  -1.358  -1.340  1.773  ... -0.055 -0.060  378.66      0\n",
              "3            1.0  -0.966  -0.185  1.793  ...  0.063  0.061  123.50      0\n",
              "4            2.0  -1.158   0.878  1.549  ...  0.219  0.215   69.99      0\n",
              "...          ...     ...     ...    ...  ...    ...    ...     ...    ...\n",
              "284802  172786.0 -11.881  10.072 -9.835  ...  0.944  0.824    0.77      0\n",
              "284803  172787.0  -0.733  -0.055  2.035  ...  0.068 -0.054   24.79      0\n",
              "284804  172788.0   1.920  -0.301 -3.250  ...  0.004 -0.027   67.88      0\n",
              "284805  172788.0  -0.240   0.530  0.703  ...  0.109  0.105   10.00      0\n",
              "284806  172792.0  -0.533  -0.190  0.703  ... -0.002  0.014  217.00      0\n",
              "\n",
              "[284807 rows x 31 columns]"
            ]
          },
          "metadata": {
            "tags": []
          },
          "execution_count": 75
        }
      ]
    },
    {
      "cell_type": "code",
      "metadata": {
        "id": "zlmZHZ70HYHD"
      },
      "source": [
        ""
      ],
      "execution_count": 72,
      "outputs": []
    },
    {
      "cell_type": "code",
      "metadata": {
        "colab": {
          "base_uri": "https://localhost:8080/",
          "height": 224
        },
        "id": "BPMvyFIbPmO7",
        "outputId": "aed9d4c8-2c0c-4000-cbf5-405b4837cc49"
      },
      "source": [
        "data.head()"
      ],
      "execution_count": 76,
      "outputs": [
        {
          "output_type": "execute_result",
          "data": {
            "text/html": [
              "<div>\n",
              "<style scoped>\n",
              "    .dataframe tbody tr th:only-of-type {\n",
              "        vertical-align: middle;\n",
              "    }\n",
              "\n",
              "    .dataframe tbody tr th {\n",
              "        vertical-align: top;\n",
              "    }\n",
              "\n",
              "    .dataframe thead th {\n",
              "        text-align: right;\n",
              "    }\n",
              "</style>\n",
              "<table border=\"1\" class=\"dataframe\">\n",
              "  <thead>\n",
              "    <tr style=\"text-align: right;\">\n",
              "      <th></th>\n",
              "      <th>Time</th>\n",
              "      <th>V1</th>\n",
              "      <th>V2</th>\n",
              "      <th>V3</th>\n",
              "      <th>V4</th>\n",
              "      <th>V5</th>\n",
              "      <th>V6</th>\n",
              "      <th>V7</th>\n",
              "      <th>V8</th>\n",
              "      <th>V9</th>\n",
              "      <th>V10</th>\n",
              "      <th>V11</th>\n",
              "      <th>V12</th>\n",
              "      <th>V13</th>\n",
              "      <th>V14</th>\n",
              "      <th>V15</th>\n",
              "      <th>V16</th>\n",
              "      <th>V17</th>\n",
              "      <th>V18</th>\n",
              "      <th>V19</th>\n",
              "      <th>V20</th>\n",
              "      <th>V21</th>\n",
              "      <th>V22</th>\n",
              "      <th>V23</th>\n",
              "      <th>V24</th>\n",
              "      <th>V25</th>\n",
              "      <th>V26</th>\n",
              "      <th>V27</th>\n",
              "      <th>V28</th>\n",
              "      <th>Amount</th>\n",
              "      <th>Class</th>\n",
              "    </tr>\n",
              "  </thead>\n",
              "  <tbody>\n",
              "    <tr>\n",
              "      <th>0</th>\n",
              "      <td>0.0</td>\n",
              "      <td>-1.360</td>\n",
              "      <td>-0.073</td>\n",
              "      <td>2.536</td>\n",
              "      <td>1.378</td>\n",
              "      <td>-0.338</td>\n",
              "      <td>0.462</td>\n",
              "      <td>0.240</td>\n",
              "      <td>0.099</td>\n",
              "      <td>0.364</td>\n",
              "      <td>0.091</td>\n",
              "      <td>-0.552</td>\n",
              "      <td>-0.618</td>\n",
              "      <td>-0.991</td>\n",
              "      <td>-0.311</td>\n",
              "      <td>1.468</td>\n",
              "      <td>-0.470</td>\n",
              "      <td>0.208</td>\n",
              "      <td>0.026</td>\n",
              "      <td>0.404</td>\n",
              "      <td>0.251</td>\n",
              "      <td>-0.018</td>\n",
              "      <td>0.278</td>\n",
              "      <td>-0.110</td>\n",
              "      <td>0.067</td>\n",
              "      <td>0.129</td>\n",
              "      <td>-0.189</td>\n",
              "      <td>0.134</td>\n",
              "      <td>-0.021</td>\n",
              "      <td>149.62</td>\n",
              "      <td>0</td>\n",
              "    </tr>\n",
              "    <tr>\n",
              "      <th>1</th>\n",
              "      <td>0.0</td>\n",
              "      <td>1.192</td>\n",
              "      <td>0.266</td>\n",
              "      <td>0.166</td>\n",
              "      <td>0.448</td>\n",
              "      <td>0.060</td>\n",
              "      <td>-0.082</td>\n",
              "      <td>-0.079</td>\n",
              "      <td>0.085</td>\n",
              "      <td>-0.255</td>\n",
              "      <td>-0.167</td>\n",
              "      <td>1.613</td>\n",
              "      <td>1.065</td>\n",
              "      <td>0.489</td>\n",
              "      <td>-0.144</td>\n",
              "      <td>0.636</td>\n",
              "      <td>0.464</td>\n",
              "      <td>-0.115</td>\n",
              "      <td>-0.183</td>\n",
              "      <td>-0.146</td>\n",
              "      <td>-0.069</td>\n",
              "      <td>-0.226</td>\n",
              "      <td>-0.639</td>\n",
              "      <td>0.101</td>\n",
              "      <td>-0.340</td>\n",
              "      <td>0.167</td>\n",
              "      <td>0.126</td>\n",
              "      <td>-0.009</td>\n",
              "      <td>0.015</td>\n",
              "      <td>2.69</td>\n",
              "      <td>0</td>\n",
              "    </tr>\n",
              "    <tr>\n",
              "      <th>2</th>\n",
              "      <td>1.0</td>\n",
              "      <td>-1.358</td>\n",
              "      <td>-1.340</td>\n",
              "      <td>1.773</td>\n",
              "      <td>0.380</td>\n",
              "      <td>-0.503</td>\n",
              "      <td>1.800</td>\n",
              "      <td>0.791</td>\n",
              "      <td>0.248</td>\n",
              "      <td>-1.515</td>\n",
              "      <td>0.208</td>\n",
              "      <td>0.625</td>\n",
              "      <td>0.066</td>\n",
              "      <td>0.717</td>\n",
              "      <td>-0.166</td>\n",
              "      <td>2.346</td>\n",
              "      <td>-2.890</td>\n",
              "      <td>1.110</td>\n",
              "      <td>-0.121</td>\n",
              "      <td>-2.262</td>\n",
              "      <td>0.525</td>\n",
              "      <td>0.248</td>\n",
              "      <td>0.772</td>\n",
              "      <td>0.909</td>\n",
              "      <td>-0.689</td>\n",
              "      <td>-0.328</td>\n",
              "      <td>-0.139</td>\n",
              "      <td>-0.055</td>\n",
              "      <td>-0.060</td>\n",
              "      <td>378.66</td>\n",
              "      <td>0</td>\n",
              "    </tr>\n",
              "    <tr>\n",
              "      <th>3</th>\n",
              "      <td>1.0</td>\n",
              "      <td>-0.966</td>\n",
              "      <td>-0.185</td>\n",
              "      <td>1.793</td>\n",
              "      <td>-0.863</td>\n",
              "      <td>-0.010</td>\n",
              "      <td>1.247</td>\n",
              "      <td>0.238</td>\n",
              "      <td>0.377</td>\n",
              "      <td>-1.387</td>\n",
              "      <td>-0.055</td>\n",
              "      <td>-0.226</td>\n",
              "      <td>0.178</td>\n",
              "      <td>0.508</td>\n",
              "      <td>-0.288</td>\n",
              "      <td>-0.631</td>\n",
              "      <td>-1.060</td>\n",
              "      <td>-0.684</td>\n",
              "      <td>1.966</td>\n",
              "      <td>-1.233</td>\n",
              "      <td>-0.208</td>\n",
              "      <td>-0.108</td>\n",
              "      <td>0.005</td>\n",
              "      <td>-0.190</td>\n",
              "      <td>-1.176</td>\n",
              "      <td>0.647</td>\n",
              "      <td>-0.222</td>\n",
              "      <td>0.063</td>\n",
              "      <td>0.061</td>\n",
              "      <td>123.50</td>\n",
              "      <td>0</td>\n",
              "    </tr>\n",
              "    <tr>\n",
              "      <th>4</th>\n",
              "      <td>2.0</td>\n",
              "      <td>-1.158</td>\n",
              "      <td>0.878</td>\n",
              "      <td>1.549</td>\n",
              "      <td>0.403</td>\n",
              "      <td>-0.407</td>\n",
              "      <td>0.096</td>\n",
              "      <td>0.593</td>\n",
              "      <td>-0.271</td>\n",
              "      <td>0.818</td>\n",
              "      <td>0.753</td>\n",
              "      <td>-0.823</td>\n",
              "      <td>0.538</td>\n",
              "      <td>1.346</td>\n",
              "      <td>-1.120</td>\n",
              "      <td>0.175</td>\n",
              "      <td>-0.451</td>\n",
              "      <td>-0.237</td>\n",
              "      <td>-0.038</td>\n",
              "      <td>0.803</td>\n",
              "      <td>0.409</td>\n",
              "      <td>-0.009</td>\n",
              "      <td>0.798</td>\n",
              "      <td>-0.137</td>\n",
              "      <td>0.141</td>\n",
              "      <td>-0.206</td>\n",
              "      <td>0.502</td>\n",
              "      <td>0.219</td>\n",
              "      <td>0.215</td>\n",
              "      <td>69.99</td>\n",
              "      <td>0</td>\n",
              "    </tr>\n",
              "  </tbody>\n",
              "</table>\n",
              "</div>"
            ],
            "text/plain": [
              "   Time     V1     V2     V3     V4  ...    V26    V27    V28  Amount  Class\n",
              "0   0.0 -1.360 -0.073  2.536  1.378  ... -0.189  0.134 -0.021  149.62      0\n",
              "1   0.0  1.192  0.266  0.166  0.448  ...  0.126 -0.009  0.015    2.69      0\n",
              "2   1.0 -1.358 -1.340  1.773  0.380  ... -0.139 -0.055 -0.060  378.66      0\n",
              "3   1.0 -0.966 -0.185  1.793 -0.863  ... -0.222  0.063  0.061  123.50      0\n",
              "4   2.0 -1.158  0.878  1.549  0.403  ...  0.502  0.219  0.215   69.99      0\n",
              "\n",
              "[5 rows x 31 columns]"
            ]
          },
          "metadata": {
            "tags": []
          },
          "execution_count": 76
        }
      ]
    },
    {
      "cell_type": "code",
      "metadata": {
        "colab": {
          "base_uri": "https://localhost:8080/"
        },
        "id": "5Dx-XbUoP2_Y",
        "outputId": "2bc310ae-d462-4268-cf24-eac3ff2e78e3"
      },
      "source": [
        "data.info()"
      ],
      "execution_count": 77,
      "outputs": [
        {
          "output_type": "stream",
          "text": [
            "<class 'pandas.core.frame.DataFrame'>\n",
            "RangeIndex: 284807 entries, 0 to 284806\n",
            "Data columns (total 31 columns):\n",
            " #   Column  Non-Null Count   Dtype  \n",
            "---  ------  --------------   -----  \n",
            " 0   Time    284807 non-null  float64\n",
            " 1   V1      284807 non-null  float64\n",
            " 2   V2      284807 non-null  float64\n",
            " 3   V3      284807 non-null  float64\n",
            " 4   V4      284807 non-null  float64\n",
            " 5   V5      284807 non-null  float64\n",
            " 6   V6      284807 non-null  float64\n",
            " 7   V7      284807 non-null  float64\n",
            " 8   V8      284807 non-null  float64\n",
            " 9   V9      284807 non-null  float64\n",
            " 10  V10     284807 non-null  float64\n",
            " 11  V11     284807 non-null  float64\n",
            " 12  V12     284807 non-null  float64\n",
            " 13  V13     284807 non-null  float64\n",
            " 14  V14     284807 non-null  float64\n",
            " 15  V15     284807 non-null  float64\n",
            " 16  V16     284807 non-null  float64\n",
            " 17  V17     284807 non-null  float64\n",
            " 18  V18     284807 non-null  float64\n",
            " 19  V19     284807 non-null  float64\n",
            " 20  V20     284807 non-null  float64\n",
            " 21  V21     284807 non-null  float64\n",
            " 22  V22     284807 non-null  float64\n",
            " 23  V23     284807 non-null  float64\n",
            " 24  V24     284807 non-null  float64\n",
            " 25  V25     284807 non-null  float64\n",
            " 26  V26     284807 non-null  float64\n",
            " 27  V27     284807 non-null  float64\n",
            " 28  V28     284807 non-null  float64\n",
            " 29  Amount  284807 non-null  float64\n",
            " 30  Class   284807 non-null  int64  \n",
            "dtypes: float64(30), int64(1)\n",
            "memory usage: 67.4 MB\n"
          ],
          "name": "stdout"
        }
      ]
    },
    {
      "cell_type": "code",
      "metadata": {
        "id": "Jde3O89-P5pF"
      },
      "source": [
        "#Checking missing Values"
      ],
      "execution_count": 78,
      "outputs": []
    },
    {
      "cell_type": "code",
      "metadata": {
        "colab": {
          "base_uri": "https://localhost:8080/"
        },
        "id": "0Zml3-WrQFXI",
        "outputId": "0f15e3c5-4815-4638-d9b1-67c57a938c92"
      },
      "source": [
        "data.isnull().values.any()"
      ],
      "execution_count": 80,
      "outputs": [
        {
          "output_type": "execute_result",
          "data": {
            "text/plain": [
              "False"
            ]
          },
          "metadata": {
            "tags": []
          },
          "execution_count": 80
        }
      ]
    },
    {
      "cell_type": "code",
      "metadata": {
        "colab": {
          "base_uri": "https://localhost:8080/",
          "height": 317
        },
        "id": "kjU-ojIdSzeX",
        "outputId": "83338e14-c24b-4519-a993-59261415b70c"
      },
      "source": [
        "data.describe()"
      ],
      "execution_count": 97,
      "outputs": [
        {
          "output_type": "execute_result",
          "data": {
            "text/html": [
              "<div>\n",
              "<style scoped>\n",
              "    .dataframe tbody tr th:only-of-type {\n",
              "        vertical-align: middle;\n",
              "    }\n",
              "\n",
              "    .dataframe tbody tr th {\n",
              "        vertical-align: top;\n",
              "    }\n",
              "\n",
              "    .dataframe thead th {\n",
              "        text-align: right;\n",
              "    }\n",
              "</style>\n",
              "<table border=\"1\" class=\"dataframe\">\n",
              "  <thead>\n",
              "    <tr style=\"text-align: right;\">\n",
              "      <th></th>\n",
              "      <th>Time</th>\n",
              "      <th>V1</th>\n",
              "      <th>V2</th>\n",
              "      <th>V3</th>\n",
              "      <th>V4</th>\n",
              "      <th>V5</th>\n",
              "      <th>V6</th>\n",
              "      <th>V7</th>\n",
              "      <th>V8</th>\n",
              "      <th>V9</th>\n",
              "      <th>V10</th>\n",
              "      <th>V11</th>\n",
              "      <th>V12</th>\n",
              "      <th>V13</th>\n",
              "      <th>V14</th>\n",
              "      <th>V15</th>\n",
              "      <th>V16</th>\n",
              "      <th>V17</th>\n",
              "      <th>V18</th>\n",
              "      <th>V19</th>\n",
              "      <th>V20</th>\n",
              "      <th>V21</th>\n",
              "      <th>V22</th>\n",
              "      <th>V23</th>\n",
              "      <th>V24</th>\n",
              "      <th>V25</th>\n",
              "      <th>V26</th>\n",
              "      <th>V27</th>\n",
              "      <th>V28</th>\n",
              "      <th>Amount</th>\n",
              "      <th>Class</th>\n",
              "    </tr>\n",
              "  </thead>\n",
              "  <tbody>\n",
              "    <tr>\n",
              "      <th>count</th>\n",
              "      <td>284807.000</td>\n",
              "      <td>2.848e+05</td>\n",
              "      <td>2.848e+05</td>\n",
              "      <td>2.848e+05</td>\n",
              "      <td>2.848e+05</td>\n",
              "      <td>2.848e+05</td>\n",
              "      <td>2.848e+05</td>\n",
              "      <td>2.848e+05</td>\n",
              "      <td>2.848e+05</td>\n",
              "      <td>2.848e+05</td>\n",
              "      <td>2.848e+05</td>\n",
              "      <td>2.848e+05</td>\n",
              "      <td>2.848e+05</td>\n",
              "      <td>2.848e+05</td>\n",
              "      <td>2.848e+05</td>\n",
              "      <td>2.848e+05</td>\n",
              "      <td>2.848e+05</td>\n",
              "      <td>2.848e+05</td>\n",
              "      <td>2.848e+05</td>\n",
              "      <td>2.848e+05</td>\n",
              "      <td>2.848e+05</td>\n",
              "      <td>2.848e+05</td>\n",
              "      <td>2.848e+05</td>\n",
              "      <td>2.848e+05</td>\n",
              "      <td>2.848e+05</td>\n",
              "      <td>2.848e+05</td>\n",
              "      <td>2.848e+05</td>\n",
              "      <td>2.848e+05</td>\n",
              "      <td>2.848e+05</td>\n",
              "      <td>284807.000</td>\n",
              "      <td>284807.000</td>\n",
              "    </tr>\n",
              "    <tr>\n",
              "      <th>mean</th>\n",
              "      <td>94813.860</td>\n",
              "      <td>3.920e-15</td>\n",
              "      <td>5.688e-16</td>\n",
              "      <td>-8.769e-15</td>\n",
              "      <td>2.782e-15</td>\n",
              "      <td>-1.553e-15</td>\n",
              "      <td>2.011e-15</td>\n",
              "      <td>-1.694e-15</td>\n",
              "      <td>-1.927e-16</td>\n",
              "      <td>-3.137e-15</td>\n",
              "      <td>1.769e-15</td>\n",
              "      <td>9.170e-16</td>\n",
              "      <td>-1.811e-15</td>\n",
              "      <td>1.693e-15</td>\n",
              "      <td>1.479e-15</td>\n",
              "      <td>3.482e-15</td>\n",
              "      <td>1.392e-15</td>\n",
              "      <td>-7.528e-16</td>\n",
              "      <td>4.329e-16</td>\n",
              "      <td>9.050e-16</td>\n",
              "      <td>5.086e-16</td>\n",
              "      <td>1.537e-16</td>\n",
              "      <td>7.960e-16</td>\n",
              "      <td>5.368e-16</td>\n",
              "      <td>4.458e-15</td>\n",
              "      <td>1.453e-15</td>\n",
              "      <td>1.699e-15</td>\n",
              "      <td>-3.660e-16</td>\n",
              "      <td>-1.206e-16</td>\n",
              "      <td>88.350</td>\n",
              "      <td>0.002</td>\n",
              "    </tr>\n",
              "    <tr>\n",
              "      <th>std</th>\n",
              "      <td>47488.146</td>\n",
              "      <td>1.959e+00</td>\n",
              "      <td>1.651e+00</td>\n",
              "      <td>1.516e+00</td>\n",
              "      <td>1.416e+00</td>\n",
              "      <td>1.380e+00</td>\n",
              "      <td>1.332e+00</td>\n",
              "      <td>1.237e+00</td>\n",
              "      <td>1.194e+00</td>\n",
              "      <td>1.099e+00</td>\n",
              "      <td>1.089e+00</td>\n",
              "      <td>1.021e+00</td>\n",
              "      <td>9.992e-01</td>\n",
              "      <td>9.953e-01</td>\n",
              "      <td>9.586e-01</td>\n",
              "      <td>9.153e-01</td>\n",
              "      <td>8.763e-01</td>\n",
              "      <td>8.493e-01</td>\n",
              "      <td>8.382e-01</td>\n",
              "      <td>8.140e-01</td>\n",
              "      <td>7.709e-01</td>\n",
              "      <td>7.345e-01</td>\n",
              "      <td>7.257e-01</td>\n",
              "      <td>6.245e-01</td>\n",
              "      <td>6.056e-01</td>\n",
              "      <td>5.213e-01</td>\n",
              "      <td>4.822e-01</td>\n",
              "      <td>4.036e-01</td>\n",
              "      <td>3.301e-01</td>\n",
              "      <td>250.120</td>\n",
              "      <td>0.042</td>\n",
              "    </tr>\n",
              "    <tr>\n",
              "      <th>min</th>\n",
              "      <td>0.000</td>\n",
              "      <td>-5.641e+01</td>\n",
              "      <td>-7.272e+01</td>\n",
              "      <td>-4.833e+01</td>\n",
              "      <td>-5.683e+00</td>\n",
              "      <td>-1.137e+02</td>\n",
              "      <td>-2.616e+01</td>\n",
              "      <td>-4.356e+01</td>\n",
              "      <td>-7.322e+01</td>\n",
              "      <td>-1.343e+01</td>\n",
              "      <td>-2.459e+01</td>\n",
              "      <td>-4.797e+00</td>\n",
              "      <td>-1.868e+01</td>\n",
              "      <td>-5.792e+00</td>\n",
              "      <td>-1.921e+01</td>\n",
              "      <td>-4.499e+00</td>\n",
              "      <td>-1.413e+01</td>\n",
              "      <td>-2.516e+01</td>\n",
              "      <td>-9.499e+00</td>\n",
              "      <td>-7.214e+00</td>\n",
              "      <td>-5.450e+01</td>\n",
              "      <td>-3.483e+01</td>\n",
              "      <td>-1.093e+01</td>\n",
              "      <td>-4.481e+01</td>\n",
              "      <td>-2.837e+00</td>\n",
              "      <td>-1.030e+01</td>\n",
              "      <td>-2.605e+00</td>\n",
              "      <td>-2.257e+01</td>\n",
              "      <td>-1.543e+01</td>\n",
              "      <td>0.000</td>\n",
              "      <td>0.000</td>\n",
              "    </tr>\n",
              "    <tr>\n",
              "      <th>25%</th>\n",
              "      <td>54201.500</td>\n",
              "      <td>-9.204e-01</td>\n",
              "      <td>-5.985e-01</td>\n",
              "      <td>-8.904e-01</td>\n",
              "      <td>-8.486e-01</td>\n",
              "      <td>-6.916e-01</td>\n",
              "      <td>-7.683e-01</td>\n",
              "      <td>-5.541e-01</td>\n",
              "      <td>-2.086e-01</td>\n",
              "      <td>-6.431e-01</td>\n",
              "      <td>-5.354e-01</td>\n",
              "      <td>-7.625e-01</td>\n",
              "      <td>-4.056e-01</td>\n",
              "      <td>-6.485e-01</td>\n",
              "      <td>-4.256e-01</td>\n",
              "      <td>-5.829e-01</td>\n",
              "      <td>-4.680e-01</td>\n",
              "      <td>-4.837e-01</td>\n",
              "      <td>-4.988e-01</td>\n",
              "      <td>-4.563e-01</td>\n",
              "      <td>-2.117e-01</td>\n",
              "      <td>-2.284e-01</td>\n",
              "      <td>-5.424e-01</td>\n",
              "      <td>-1.618e-01</td>\n",
              "      <td>-3.546e-01</td>\n",
              "      <td>-3.171e-01</td>\n",
              "      <td>-3.270e-01</td>\n",
              "      <td>-7.084e-02</td>\n",
              "      <td>-5.296e-02</td>\n",
              "      <td>5.600</td>\n",
              "      <td>0.000</td>\n",
              "    </tr>\n",
              "    <tr>\n",
              "      <th>50%</th>\n",
              "      <td>84692.000</td>\n",
              "      <td>1.811e-02</td>\n",
              "      <td>6.549e-02</td>\n",
              "      <td>1.798e-01</td>\n",
              "      <td>-1.985e-02</td>\n",
              "      <td>-5.434e-02</td>\n",
              "      <td>-2.742e-01</td>\n",
              "      <td>4.010e-02</td>\n",
              "      <td>2.236e-02</td>\n",
              "      <td>-5.143e-02</td>\n",
              "      <td>-9.292e-02</td>\n",
              "      <td>-3.276e-02</td>\n",
              "      <td>1.400e-01</td>\n",
              "      <td>-1.357e-02</td>\n",
              "      <td>5.060e-02</td>\n",
              "      <td>4.807e-02</td>\n",
              "      <td>6.641e-02</td>\n",
              "      <td>-6.568e-02</td>\n",
              "      <td>-3.636e-03</td>\n",
              "      <td>3.735e-03</td>\n",
              "      <td>-6.248e-02</td>\n",
              "      <td>-2.945e-02</td>\n",
              "      <td>6.782e-03</td>\n",
              "      <td>-1.119e-02</td>\n",
              "      <td>4.098e-02</td>\n",
              "      <td>1.659e-02</td>\n",
              "      <td>-5.214e-02</td>\n",
              "      <td>1.342e-03</td>\n",
              "      <td>1.124e-02</td>\n",
              "      <td>22.000</td>\n",
              "      <td>0.000</td>\n",
              "    </tr>\n",
              "    <tr>\n",
              "      <th>75%</th>\n",
              "      <td>139320.500</td>\n",
              "      <td>1.316e+00</td>\n",
              "      <td>8.037e-01</td>\n",
              "      <td>1.027e+00</td>\n",
              "      <td>7.433e-01</td>\n",
              "      <td>6.119e-01</td>\n",
              "      <td>3.986e-01</td>\n",
              "      <td>5.704e-01</td>\n",
              "      <td>3.273e-01</td>\n",
              "      <td>5.971e-01</td>\n",
              "      <td>4.539e-01</td>\n",
              "      <td>7.396e-01</td>\n",
              "      <td>6.182e-01</td>\n",
              "      <td>6.625e-01</td>\n",
              "      <td>4.931e-01</td>\n",
              "      <td>6.488e-01</td>\n",
              "      <td>5.233e-01</td>\n",
              "      <td>3.997e-01</td>\n",
              "      <td>5.008e-01</td>\n",
              "      <td>4.589e-01</td>\n",
              "      <td>1.330e-01</td>\n",
              "      <td>1.864e-01</td>\n",
              "      <td>5.286e-01</td>\n",
              "      <td>1.476e-01</td>\n",
              "      <td>4.395e-01</td>\n",
              "      <td>3.507e-01</td>\n",
              "      <td>2.410e-01</td>\n",
              "      <td>9.105e-02</td>\n",
              "      <td>7.828e-02</td>\n",
              "      <td>77.165</td>\n",
              "      <td>0.000</td>\n",
              "    </tr>\n",
              "    <tr>\n",
              "      <th>max</th>\n",
              "      <td>172792.000</td>\n",
              "      <td>2.455e+00</td>\n",
              "      <td>2.206e+01</td>\n",
              "      <td>9.383e+00</td>\n",
              "      <td>1.688e+01</td>\n",
              "      <td>3.480e+01</td>\n",
              "      <td>7.330e+01</td>\n",
              "      <td>1.206e+02</td>\n",
              "      <td>2.001e+01</td>\n",
              "      <td>1.559e+01</td>\n",
              "      <td>2.375e+01</td>\n",
              "      <td>1.202e+01</td>\n",
              "      <td>7.848e+00</td>\n",
              "      <td>7.127e+00</td>\n",
              "      <td>1.053e+01</td>\n",
              "      <td>8.878e+00</td>\n",
              "      <td>1.732e+01</td>\n",
              "      <td>9.254e+00</td>\n",
              "      <td>5.041e+00</td>\n",
              "      <td>5.592e+00</td>\n",
              "      <td>3.942e+01</td>\n",
              "      <td>2.720e+01</td>\n",
              "      <td>1.050e+01</td>\n",
              "      <td>2.253e+01</td>\n",
              "      <td>4.585e+00</td>\n",
              "      <td>7.520e+00</td>\n",
              "      <td>3.517e+00</td>\n",
              "      <td>3.161e+01</td>\n",
              "      <td>3.385e+01</td>\n",
              "      <td>25691.160</td>\n",
              "      <td>1.000</td>\n",
              "    </tr>\n",
              "  </tbody>\n",
              "</table>\n",
              "</div>"
            ],
            "text/plain": [
              "             Time         V1         V2  ...        V28      Amount       Class\n",
              "count  284807.000  2.848e+05  2.848e+05  ...  2.848e+05  284807.000  284807.000\n",
              "mean    94813.860  3.920e-15  5.688e-16  ... -1.206e-16      88.350       0.002\n",
              "std     47488.146  1.959e+00  1.651e+00  ...  3.301e-01     250.120       0.042\n",
              "min         0.000 -5.641e+01 -7.272e+01  ... -1.543e+01       0.000       0.000\n",
              "25%     54201.500 -9.204e-01 -5.985e-01  ... -5.296e-02       5.600       0.000\n",
              "50%     84692.000  1.811e-02  6.549e-02  ...  1.124e-02      22.000       0.000\n",
              "75%    139320.500  1.316e+00  8.037e-01  ...  7.828e-02      77.165       0.000\n",
              "max    172792.000  2.455e+00  2.206e+01  ...  3.385e+01   25691.160       1.000\n",
              "\n",
              "[8 rows x 31 columns]"
            ]
          },
          "metadata": {
            "tags": []
          },
          "execution_count": 97
        }
      ]
    },
    {
      "cell_type": "code",
      "metadata": {
        "colab": {
          "base_uri": "https://localhost:8080/"
        },
        "id": "TRMVVXUqUsC8",
        "outputId": "9c0caa4e-ce19-40f0-b8d2-f3e7d8186e88"
      },
      "source": [
        "data['Class'].value_counts()"
      ],
      "execution_count": 99,
      "outputs": [
        {
          "output_type": "execute_result",
          "data": {
            "text/plain": [
              "0    284315\n",
              "1       492\n",
              "Name: Class, dtype: int64"
            ]
          },
          "metadata": {
            "tags": []
          },
          "execution_count": 99
        }
      ]
    },
    {
      "cell_type": "code",
      "metadata": {
        "id": "_tsatSWiU0ZE"
      },
      "source": [
        "fraud_data = data[data['Class']==1]\n",
        "non_fraud_data = data[data[\"Class\"]==0]\n"
      ],
      "execution_count": 101,
      "outputs": []
    },
    {
      "cell_type": "code",
      "metadata": {
        "id": "7mph2XfdVAkb"
      },
      "source": [
        "non_fraud_data1 = non_fraud_data.sample(fraud_data.shape[0])"
      ],
      "execution_count": 102,
      "outputs": []
    },
    {
      "cell_type": "code",
      "metadata": {
        "colab": {
          "base_uri": "https://localhost:8080/"
        },
        "id": "DkrXuaOtVFEa",
        "outputId": "0bd5d558-2f5f-4b91-e0eb-da49c196419c"
      },
      "source": [
        "\n",
        "non_fraud_data1.shape"
      ],
      "execution_count": 103,
      "outputs": [
        {
          "output_type": "execute_result",
          "data": {
            "text/plain": [
              "(492, 31)"
            ]
          },
          "metadata": {
            "tags": []
          },
          "execution_count": 103
        }
      ]
    },
    {
      "cell_type": "code",
      "metadata": {
        "colab": {
          "base_uri": "https://localhost:8080/"
        },
        "id": "ZPN7viP2VJ3z",
        "outputId": "0dbbc4cc-0f12-4f20-db11-c5b5d76ac32d"
      },
      "source": [
        "fraud_data.shape,non_fraud_data1.shape"
      ],
      "execution_count": 104,
      "outputs": [
        {
          "output_type": "execute_result",
          "data": {
            "text/plain": [
              "((492, 31), (492, 31))"
            ]
          },
          "metadata": {
            "tags": []
          },
          "execution_count": 104
        }
      ]
    },
    {
      "cell_type": "code",
      "metadata": {
        "colab": {
          "base_uri": "https://localhost:8080/"
        },
        "id": "hu73SQncVOWF",
        "outputId": "d1416c7c-8c86-4e05-d8b0-07bbe7d3d604"
      },
      "source": [
        "final_data = fraud_data.append(non_fraud_data1,ignore_index=True)\n",
        "final_data.shape"
      ],
      "execution_count": 105,
      "outputs": [
        {
          "output_type": "execute_result",
          "data": {
            "text/plain": [
              "(984, 31)"
            ]
          },
          "metadata": {
            "tags": []
          },
          "execution_count": 105
        }
      ]
    },
    {
      "cell_type": "code",
      "metadata": {
        "id": "-KsZ93jDVPYk"
      },
      "source": [
        "features=final_data.drop(\"Class\",axis=1)\n",
        "label=final_data[\"Class\"]\n"
      ],
      "execution_count": 106,
      "outputs": []
    },
    {
      "cell_type": "code",
      "metadata": {
        "colab": {
          "base_uri": "https://localhost:8080/"
        },
        "id": "pXlzlK7BVSQa",
        "outputId": "37fe3312-747f-4cd9-e5db-d920bd3e1eb9"
      },
      "source": [
        "features.shape,label.shape"
      ],
      "execution_count": 107,
      "outputs": [
        {
          "output_type": "execute_result",
          "data": {
            "text/plain": [
              "((984, 30), (984,))"
            ]
          },
          "metadata": {
            "tags": []
          },
          "execution_count": 107
        }
      ]
    },
    {
      "cell_type": "code",
      "metadata": {
        "id": "kpFZbAV8VVmL"
      },
      "source": [
        "import tensorflow as tf\n",
        "from tensorflow import keras\n",
        "from keras import Sequential\n",
        "from tensorflow.keras.optimizers import Adam\n",
        "from keras.layers import Flatten,Dense,Dropout,BatchNormalization\n",
        "\n",
        "from keras.layers import Conv1D,MaxPool1D\n",
        "import matplotlib.pyplot as plt\n",
        "import seaborn as sns\n",
        "from sklearn.model_selection import train_test_split\n",
        "from sklearn.preprocessing import StandardScaler\n",
        "from sklearn.metrics import confusion_matrix\n"
      ],
      "execution_count": 111,
      "outputs": []
    },
    {
      "cell_type": "code",
      "metadata": {
        "id": "fPNLuFtAVkIM"
      },
      "source": [
        "features_train,features_test,labels_train,labels_test = train_test_split(features,label,test_size=.25,random_state=41,stratify = label)"
      ],
      "execution_count": 108,
      "outputs": []
    },
    {
      "cell_type": "code",
      "metadata": {
        "colab": {
          "base_uri": "https://localhost:8080/"
        },
        "id": "XftJqlR5VsXT",
        "outputId": "a5f92774-5ec5-49bb-af8d-9d0b08137e33"
      },
      "source": [
        "features_train.shape,features_test.shape"
      ],
      "execution_count": 109,
      "outputs": [
        {
          "output_type": "execute_result",
          "data": {
            "text/plain": [
              "((738, 30), (246, 30))"
            ]
          },
          "metadata": {
            "tags": []
          },
          "execution_count": 109
        }
      ]
    },
    {
      "cell_type": "code",
      "metadata": {
        "id": "gLaeapfGVvkV"
      },
      "source": [
        "scaler = StandardScaler()\n",
        "features_train = scaler.fit_transform(features_train)\n",
        "features_test = scaler.fit_transform(features_test)"
      ],
      "execution_count": 112,
      "outputs": []
    },
    {
      "cell_type": "code",
      "metadata": {
        "id": "n9c23YIJV9LF"
      },
      "source": [
        "# converting features into dataframe\n",
        "features_train = pd.DataFrame(features_train)\n",
        "features_test = pd.DataFrame(features_test)"
      ],
      "execution_count": 113,
      "outputs": []
    },
    {
      "cell_type": "code",
      "metadata": {
        "id": "CB48RBaBV-X0"
      },
      "source": [
        "features_train = features_train.to_numpy()\n",
        "features_test = features_test.to_numpy()"
      ],
      "execution_count": 114,
      "outputs": []
    },
    {
      "cell_type": "code",
      "metadata": {
        "colab": {
          "base_uri": "https://localhost:8080/"
        },
        "id": "Klw3uFAjWC0-",
        "outputId": "c6fa7dfd-de95-4df9-ff8e-8e7e4b62b619"
      },
      "source": [
        "features_train =features_train.reshape(features_train.shape[0],features_train.shape[1],1)\n",
        "features_test =features_test.reshape(features_test.shape[0],features_test.shape[1],1)\n",
        "\n",
        "features_train.shape,features_test.shape"
      ],
      "execution_count": 115,
      "outputs": [
        {
          "output_type": "execute_result",
          "data": {
            "text/plain": [
              "((738, 30, 1), (246, 30, 1))"
            ]
          },
          "metadata": {
            "tags": []
          },
          "execution_count": 115
        }
      ]
    },
    {
      "cell_type": "code",
      "metadata": {
        "id": "ulArain0WEO9"
      },
      "source": [
        "epochs=50\n",
        "model=Sequential()\n",
        "\n",
        "model.add(Conv1D(32,2,activation='relu',input_shape=features_train[0].shape))\n",
        "model.add(BatchNormalization())\n",
        "model.add(MaxPool1D(2))\n",
        "model.add(Dropout(0.2))\n",
        "\n",
        "model.add(Conv1D(64,2,activation='relu'))\n",
        "model.add(BatchNormalization())\n",
        "model.add(MaxPool1D(2))\n",
        "model.add(Dropout(0.5))\n",
        "\n",
        "\n",
        "#flattening layer\n",
        "model.add(Flatten())\n",
        "model.add(Dense(64,activation=\"relu\"))\n",
        "model.add(Dropout(0.5))\n",
        "\n",
        "#final layer\n",
        "model.add(Dense(1,activation=\"sigmoid\"))"
      ],
      "execution_count": 116,
      "outputs": []
    },
    {
      "cell_type": "code",
      "metadata": {
        "colab": {
          "base_uri": "https://localhost:8080/"
        },
        "id": "KoznrJ5_WMFD",
        "outputId": "184bd282-6bd6-4855-c36f-ca8749a4a310"
      },
      "source": [
        "model.summary()"
      ],
      "execution_count": 117,
      "outputs": [
        {
          "output_type": "stream",
          "text": [
            "Model: \"sequential_1\"\n",
            "_________________________________________________________________\n",
            "Layer (type)                 Output Shape              Param #   \n",
            "=================================================================\n",
            "conv1d (Conv1D)              (None, 29, 32)            96        \n",
            "_________________________________________________________________\n",
            "batch_normalization (BatchNo (None, 29, 32)            128       \n",
            "_________________________________________________________________\n",
            "max_pooling1d (MaxPooling1D) (None, 14, 32)            0         \n",
            "_________________________________________________________________\n",
            "dropout (Dropout)            (None, 14, 32)            0         \n",
            "_________________________________________________________________\n",
            "conv1d_1 (Conv1D)            (None, 13, 64)            4160      \n",
            "_________________________________________________________________\n",
            "batch_normalization_1 (Batch (None, 13, 64)            256       \n",
            "_________________________________________________________________\n",
            "max_pooling1d_1 (MaxPooling1 (None, 6, 64)             0         \n",
            "_________________________________________________________________\n",
            "dropout_1 (Dropout)          (None, 6, 64)             0         \n",
            "_________________________________________________________________\n",
            "flatten (Flatten)            (None, 384)               0         \n",
            "_________________________________________________________________\n",
            "dense_4 (Dense)              (None, 64)                24640     \n",
            "_________________________________________________________________\n",
            "dropout_2 (Dropout)          (None, 64)                0         \n",
            "_________________________________________________________________\n",
            "dense_5 (Dense)              (None, 1)                 65        \n",
            "=================================================================\n",
            "Total params: 29,345\n",
            "Trainable params: 29,153\n",
            "Non-trainable params: 192\n",
            "_________________________________________________________________\n"
          ],
          "name": "stdout"
        }
      ]
    },
    {
      "cell_type": "code",
      "metadata": {
        "id": "WTOCL33-WQ9A"
      },
      "source": [
        "model.compile(optimizer=Adam(lr=0.001),loss='binary_crossentropy',metrics=['accuracy'])"
      ],
      "execution_count": 118,
      "outputs": []
    },
    {
      "cell_type": "code",
      "metadata": {
        "colab": {
          "base_uri": "https://localhost:8080/"
        },
        "id": "MGfyi2OKWUbd",
        "outputId": "f186193e-9930-4045-8e08-8709c74b2e82"
      },
      "source": [
        "history =model.fit(features_train,labels_train,epochs=epochs,\n",
        "                    validation_data = (features_test,labels_test),verbose=1)"
      ],
      "execution_count": 119,
      "outputs": [
        {
          "output_type": "stream",
          "text": [
            "Epoch 1/50\n",
            "24/24 [==============================] - 2s 18ms/step - loss: 0.9756 - accuracy: 0.6651 - val_loss: 0.5882 - val_accuracy: 0.7073\n",
            "Epoch 2/50\n",
            "24/24 [==============================] - 0s 8ms/step - loss: 0.3862 - accuracy: 0.8518 - val_loss: 0.5260 - val_accuracy: 0.8293\n",
            "Epoch 3/50\n",
            "24/24 [==============================] - 0s 8ms/step - loss: 0.3059 - accuracy: 0.8872 - val_loss: 0.4900 - val_accuracy: 0.7805\n",
            "Epoch 4/50\n",
            "24/24 [==============================] - 0s 8ms/step - loss: 0.2783 - accuracy: 0.9194 - val_loss: 0.4818 - val_accuracy: 0.7358\n",
            "Epoch 5/50\n",
            "24/24 [==============================] - 0s 8ms/step - loss: 0.2972 - accuracy: 0.9143 - val_loss: 0.4718 - val_accuracy: 0.7439\n",
            "Epoch 6/50\n",
            "24/24 [==============================] - 0s 8ms/step - loss: 0.2634 - accuracy: 0.9072 - val_loss: 0.4558 - val_accuracy: 0.7480\n",
            "Epoch 7/50\n",
            "24/24 [==============================] - 0s 8ms/step - loss: 0.3129 - accuracy: 0.8945 - val_loss: 0.4041 - val_accuracy: 0.7846\n",
            "Epoch 8/50\n",
            "24/24 [==============================] - 0s 8ms/step - loss: 0.2425 - accuracy: 0.9165 - val_loss: 0.3838 - val_accuracy: 0.8171\n",
            "Epoch 9/50\n",
            "24/24 [==============================] - 0s 8ms/step - loss: 0.2710 - accuracy: 0.9015 - val_loss: 0.3515 - val_accuracy: 0.8455\n",
            "Epoch 10/50\n",
            "24/24 [==============================] - 0s 8ms/step - loss: 0.2184 - accuracy: 0.9296 - val_loss: 0.3321 - val_accuracy: 0.8659\n",
            "Epoch 11/50\n",
            "24/24 [==============================] - 0s 8ms/step - loss: 0.2507 - accuracy: 0.9178 - val_loss: 0.2961 - val_accuracy: 0.8780\n",
            "Epoch 12/50\n",
            "24/24 [==============================] - 0s 8ms/step - loss: 0.1836 - accuracy: 0.9250 - val_loss: 0.2677 - val_accuracy: 0.8862\n",
            "Epoch 13/50\n",
            "24/24 [==============================] - 0s 8ms/step - loss: 0.2027 - accuracy: 0.9233 - val_loss: 0.2429 - val_accuracy: 0.9065\n",
            "Epoch 14/50\n",
            "24/24 [==============================] - 0s 8ms/step - loss: 0.1672 - accuracy: 0.9356 - val_loss: 0.2291 - val_accuracy: 0.9106\n",
            "Epoch 15/50\n",
            "24/24 [==============================] - 0s 8ms/step - loss: 0.1876 - accuracy: 0.9286 - val_loss: 0.2141 - val_accuracy: 0.9228\n",
            "Epoch 16/50\n",
            "24/24 [==============================] - 0s 8ms/step - loss: 0.1801 - accuracy: 0.9291 - val_loss: 0.2031 - val_accuracy: 0.9268\n",
            "Epoch 17/50\n",
            "24/24 [==============================] - 0s 8ms/step - loss: 0.1943 - accuracy: 0.9175 - val_loss: 0.2041 - val_accuracy: 0.9228\n",
            "Epoch 18/50\n",
            "24/24 [==============================] - 0s 8ms/step - loss: 0.2044 - accuracy: 0.9373 - val_loss: 0.1977 - val_accuracy: 0.9268\n",
            "Epoch 19/50\n",
            "24/24 [==============================] - 0s 8ms/step - loss: 0.1768 - accuracy: 0.9336 - val_loss: 0.1928 - val_accuracy: 0.9350\n",
            "Epoch 20/50\n",
            "24/24 [==============================] - 0s 8ms/step - loss: 0.1636 - accuracy: 0.9441 - val_loss: 0.1971 - val_accuracy: 0.9268\n",
            "Epoch 21/50\n",
            "24/24 [==============================] - 0s 8ms/step - loss: 0.1566 - accuracy: 0.9451 - val_loss: 0.1934 - val_accuracy: 0.9309\n",
            "Epoch 22/50\n",
            "24/24 [==============================] - 0s 8ms/step - loss: 0.1820 - accuracy: 0.9324 - val_loss: 0.1993 - val_accuracy: 0.9228\n",
            "Epoch 23/50\n",
            "24/24 [==============================] - 0s 8ms/step - loss: 0.1868 - accuracy: 0.9259 - val_loss: 0.2015 - val_accuracy: 0.9228\n",
            "Epoch 24/50\n",
            "24/24 [==============================] - 0s 8ms/step - loss: 0.1986 - accuracy: 0.9275 - val_loss: 0.1914 - val_accuracy: 0.9187\n",
            "Epoch 25/50\n",
            "24/24 [==============================] - 0s 8ms/step - loss: 0.1350 - accuracy: 0.9475 - val_loss: 0.1871 - val_accuracy: 0.9228\n",
            "Epoch 26/50\n",
            "24/24 [==============================] - 0s 8ms/step - loss: 0.1831 - accuracy: 0.9417 - val_loss: 0.1873 - val_accuracy: 0.9228\n",
            "Epoch 27/50\n",
            "24/24 [==============================] - 0s 8ms/step - loss: 0.1725 - accuracy: 0.9458 - val_loss: 0.1865 - val_accuracy: 0.9228\n",
            "Epoch 28/50\n",
            "24/24 [==============================] - 0s 8ms/step - loss: 0.2019 - accuracy: 0.9178 - val_loss: 0.1867 - val_accuracy: 0.9228\n",
            "Epoch 29/50\n",
            "24/24 [==============================] - 0s 8ms/step - loss: 0.1628 - accuracy: 0.9349 - val_loss: 0.1867 - val_accuracy: 0.9309\n",
            "Epoch 30/50\n",
            "24/24 [==============================] - 0s 8ms/step - loss: 0.1882 - accuracy: 0.9424 - val_loss: 0.1857 - val_accuracy: 0.9350\n",
            "Epoch 31/50\n",
            "24/24 [==============================] - 0s 8ms/step - loss: 0.1763 - accuracy: 0.9392 - val_loss: 0.1828 - val_accuracy: 0.9228\n",
            "Epoch 32/50\n",
            "24/24 [==============================] - 0s 8ms/step - loss: 0.1441 - accuracy: 0.9495 - val_loss: 0.1834 - val_accuracy: 0.9350\n",
            "Epoch 33/50\n",
            "24/24 [==============================] - 0s 9ms/step - loss: 0.2145 - accuracy: 0.9338 - val_loss: 0.1811 - val_accuracy: 0.9309\n",
            "Epoch 34/50\n",
            "24/24 [==============================] - 0s 8ms/step - loss: 0.1478 - accuracy: 0.9429 - val_loss: 0.1802 - val_accuracy: 0.9309\n",
            "Epoch 35/50\n",
            "24/24 [==============================] - 0s 8ms/step - loss: 0.1535 - accuracy: 0.9397 - val_loss: 0.1833 - val_accuracy: 0.9309\n",
            "Epoch 36/50\n",
            "24/24 [==============================] - 0s 8ms/step - loss: 0.1337 - accuracy: 0.9478 - val_loss: 0.1865 - val_accuracy: 0.9309\n",
            "Epoch 37/50\n",
            "24/24 [==============================] - 0s 8ms/step - loss: 0.1955 - accuracy: 0.9337 - val_loss: 0.1856 - val_accuracy: 0.9268\n",
            "Epoch 38/50\n",
            "24/24 [==============================] - 0s 8ms/step - loss: 0.1427 - accuracy: 0.9391 - val_loss: 0.1920 - val_accuracy: 0.9228\n",
            "Epoch 39/50\n",
            "24/24 [==============================] - 0s 8ms/step - loss: 0.1528 - accuracy: 0.9351 - val_loss: 0.1911 - val_accuracy: 0.9187\n",
            "Epoch 40/50\n",
            "24/24 [==============================] - 0s 8ms/step - loss: 0.1350 - accuracy: 0.9575 - val_loss: 0.1935 - val_accuracy: 0.9228\n",
            "Epoch 41/50\n",
            "24/24 [==============================] - 0s 9ms/step - loss: 0.1423 - accuracy: 0.9514 - val_loss: 0.1909 - val_accuracy: 0.9228\n",
            "Epoch 42/50\n",
            "24/24 [==============================] - 0s 8ms/step - loss: 0.1415 - accuracy: 0.9527 - val_loss: 0.1918 - val_accuracy: 0.9228\n",
            "Epoch 43/50\n",
            "24/24 [==============================] - 0s 8ms/step - loss: 0.1303 - accuracy: 0.9625 - val_loss: 0.1892 - val_accuracy: 0.9187\n",
            "Epoch 44/50\n",
            "24/24 [==============================] - 0s 8ms/step - loss: 0.1677 - accuracy: 0.9365 - val_loss: 0.1892 - val_accuracy: 0.9268\n",
            "Epoch 45/50\n",
            "24/24 [==============================] - 0s 8ms/step - loss: 0.2066 - accuracy: 0.9203 - val_loss: 0.1915 - val_accuracy: 0.9228\n",
            "Epoch 46/50\n",
            "24/24 [==============================] - 0s 8ms/step - loss: 0.1261 - accuracy: 0.9568 - val_loss: 0.1950 - val_accuracy: 0.9228\n",
            "Epoch 47/50\n",
            "24/24 [==============================] - 0s 8ms/step - loss: 0.1682 - accuracy: 0.9309 - val_loss: 0.1950 - val_accuracy: 0.9146\n",
            "Epoch 48/50\n",
            "24/24 [==============================] - 0s 8ms/step - loss: 0.1351 - accuracy: 0.9554 - val_loss: 0.1983 - val_accuracy: 0.9187\n",
            "Epoch 49/50\n",
            "24/24 [==============================] - 0s 8ms/step - loss: 0.1079 - accuracy: 0.9617 - val_loss: 0.2009 - val_accuracy: 0.9187\n",
            "Epoch 50/50\n",
            "24/24 [==============================] - 0s 9ms/step - loss: 0.1320 - accuracy: 0.9512 - val_loss: 0.2011 - val_accuracy: 0.9228\n"
          ],
          "name": "stdout"
        }
      ]
    },
    {
      "cell_type": "code",
      "metadata": {
        "id": "4Bckr6JQWcbd"
      },
      "source": [
        "def plot_learning_curve(history,epochs):\n",
        "    \n",
        "    epoch_range=range(1,epochs+1)\n",
        "    plt.plot(epoch_range,history.history['accuracy'])\n",
        "    plt.plot(epoch_range,history.history[\"val_accuracy\"])\n",
        "    plt.title(\"Model Accuracy\")\n",
        "    plt.xlabel(\"epochs\")\n",
        "    plt.ylabel(\"accuracy\")\n",
        "    plt.legend(\"train\",\"val\",loc=\"upper left\")\n",
        "    plt.show()\n",
        "    \n",
        "    \n",
        "     \n",
        "    plt.plot(epoch_range,history.history['loss'])\n",
        "    plt.plot(epoch_range,history.history['val_loss'])\n",
        "    plt.title('Model loss')\n",
        "    plt.ylabel('loss')\n",
        "    plt.xlabel('epoch')\n",
        "    plt.legend(['Train','Val'],loc='upper left')\n",
        "    plt.show()\n"
      ],
      "execution_count": 120,
      "outputs": []
    },
    {
      "cell_type": "code",
      "metadata": {
        "colab": {
          "base_uri": "https://localhost:8080/",
          "height": 1000
        },
        "id": "VU3MBjwZWiDn",
        "outputId": "4029f441-94dd-4619-ec0f-c8f958855dea"
      },
      "source": [
        "plot_learning_curve(history,epochs)"
      ],
      "execution_count": 121,
      "outputs": [
        {
          "output_type": "stream",
          "text": [
            "/usr/local/lib/python3.7/dist-packages/ipykernel_launcher.py:9: UserWarning: Legend does not support 't' instances.\n",
            "A proxy artist may be used instead.\n",
            "See: http://matplotlib.org/users/legend_guide.html#creating-artists-specifically-for-adding-to-the-legend-aka-proxy-artists\n",
            "  if __name__ == '__main__':\n",
            "/usr/local/lib/python3.7/dist-packages/ipykernel_launcher.py:9: UserWarning: Legend does not support 'r' instances.\n",
            "A proxy artist may be used instead.\n",
            "See: http://matplotlib.org/users/legend_guide.html#creating-artists-specifically-for-adding-to-the-legend-aka-proxy-artists\n",
            "  if __name__ == '__main__':\n",
            "/usr/local/lib/python3.7/dist-packages/ipykernel_launcher.py:9: UserWarning: Legend does not support 'a' instances.\n",
            "A proxy artist may be used instead.\n",
            "See: http://matplotlib.org/users/legend_guide.html#creating-artists-specifically-for-adding-to-the-legend-aka-proxy-artists\n",
            "  if __name__ == '__main__':\n"
          ],
          "name": "stderr"
        },
        {
          "output_type": "display_data",
          "data": {
            "image/png": "[encoded data removed]",
            "text/plain": [
              "<Figure size 1008x576 with 1 Axes>"
            ]
          },
          "metadata": {
            "tags": []
          }
        },
        {
          "output_type": "display_data",
          "data": {
            "image/png": "[encoded data removed]",
            "text/plain": [
              "<Figure size 1008x576 with 1 Axes>"
            ]
          },
          "metadata": {
            "tags": []
          }
        }
      ]
    },
    {
      "cell_type": "code",
      "metadata": {
        "colab": {
          "base_uri": "https://localhost:8080/"
        },
        "id": "5zTEZDxmWl5r",
        "outputId": "4bffa6bd-b1c0-4570-e0d4-0f01c7450710"
      },
      "source": [
        "final_acc = model.evaluate(features_train,labels_train)\n",
        "final_acc"
      ],
      "execution_count": 122,
      "outputs": [
        {
          "output_type": "stream",
          "text": [
            "24/24 [==============================] - 0s 2ms/step - loss: 0.0922 - accuracy: 0.9702\n"
          ],
          "name": "stdout"
        },
        {
          "output_type": "execute_result",
          "data": {
            "text/plain": [
              "[0.0922027975320816, 0.9701896905899048]"
            ]
          },
          "metadata": {
            "tags": []
          },
          "execution_count": 122
        }
      ]
    },
    {
      "cell_type": "code",
      "metadata": {
        "id": "gAEF99RIWrX9"
      },
      "source": [
        "pred = model.predict(features_test)\n",
        "pred_label=pred.argmax(axis=1)"
      ],
      "execution_count": 126,
      "outputs": []
    },
    {
      "cell_type": "code",
      "metadata": {
        "colab": {
          "base_uri": "https://localhost:8080/"
        },
        "id": "KzYM4EbSWumg",
        "outputId": "2d726df2-3358-43aa-d2c3-90880bc6e44f"
      },
      "source": [
        "cm=confusion_matrix(labels_test,pred.round())\n",
        "cm"
      ],
      "execution_count": 124,
      "outputs": [
        {
          "output_type": "execute_result",
          "data": {
            "text/plain": [
              "array([[115,   8],\n",
              "       [ 11, 112]])"
            ]
          },
          "metadata": {
            "tags": []
          },
          "execution_count": 124
        }
      ]
    },
    {
      "cell_type": "code",
      "metadata": {
        "id": "htCRBs24WxPG"
      },
      "source": [
        ""
      ],
      "execution_count": null,
      "outputs": []
    }
  ]
}