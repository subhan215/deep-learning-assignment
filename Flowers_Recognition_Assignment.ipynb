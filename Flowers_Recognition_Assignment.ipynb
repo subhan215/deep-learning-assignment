{
  "nbformat": 4,
  "nbformat_minor": 0,
  "metadata": {
    "colab": {
      "name": "Flowers_Recognition Assignment.ipynb",
      "provenance": [],
      "collapsed_sections": [],
      "include_colab_link": true
    },
    "kernelspec": {
      "display_name": "Python 3",
      "language": "python",
      "name": "python3"
    },
    "language_info": {
      "codemirror_mode": {
        "name": "ipython",
        "version": 3
      },
      "file_extension": ".py",
      "mimetype": "text/x-python",
      "name": "python",
      "nbconvert_exporter": "python",
      "pygments_lexer": "ipython3",
      "version": "3.8.8"
    },
    "accelerator": "TPU"
  },
  "cells": [
    {
      "cell_type": "markdown",
      "metadata": {
        "id": "view-in-github",
        "colab_type": "text"
      },
      "source": [
        "<a href=\"https://colab.research.google.com/github/subhan215/deep-learning-assignment/blob/main/Flowers_Recognition_Assignment.ipynb\" target=\"_parent\"><img src=\"https://colab.research.google.com/assets/colab-badge.svg\" alt=\"Open In Colab\"/></a>"
      ]
    },
    {
      "cell_type": "markdown",
      "metadata": {
        "id": "BXgJ6uT1NydQ"
      },
      "source": [
        "Assignment: Flowers Recognition <br>\n",
        "Dataset Description:<br>\n",
        "\n",
        "This dataset contains 4341 images of flowers.<br>\n",
        "The data collection is based on the data flickr, google images, yandex images.<br>\n",
        "You can use this dataset to recognize plants from the photo.<br>\n",
        "\n",
        "Attribute Information:<br>\n",
        "The pictures are divided into five classes: chamomile, tulip, rose, sunflower, dandelion.<br>\n",
        "For each class there are about 800 photos. Photos are not high resolution, about 320x240 pixels. <br>\n",
        "<b>Also explore how to resize images in tensorflow and then resize all the images to a same size. </b> <br>\n",
        "This is a Multiclass Classification Problem.<br>\n",
        "\n",
        "\n"
      ]
    },
    {
      "cell_type": "markdown",
      "metadata": {
        "id": "T7vy-ktuOKJH"
      },
      "source": [
        "WORKFLOW : <br>\n",
        "Load Data <br>\n",
        "Split into 60 and 40 ratio.<br>\n",
        "Encode labels.<br>\n",
        "Create Model<br>\n",
        "Compilation Step (Note : Its a Multiclass Classification problem , select loss , metrics according to it)<br>\n",
        "Train the Model.<br>\n",
        "If the model gets overfit tune your model by changing the units , No. of layers , epochs , add dropout layer or add Regularizer according to the need .<br>\n",
        "Prediction should be > 85%<br>\n",
        "Evaluation Step<br>\n",
        "Prediction<br>\n",
        "\n",
        "\n"
      ]
    },
    {
      "cell_type": "markdown",
      "metadata": {
        "id": "ri3Bg5qfPRic"
      },
      "source": [
        "Data : <br>\n",
        "https://drive.google.com/file/d/1-OX6wn5gA-bJpjPNfSyaYQLz-A-AB_uj/view?usp=sharing"
      ]
    },
    {
      "cell_type": "code",
      "metadata": {
        "id": "hTtg3WuGTA1o",
        "colab": {
          "base_uri": "https://localhost:8080/"
        },
        "outputId": "3b744e56-1eb4-467b-dbdd-ad2e608b2518"
      },
      "source": [
        "# mount google drive\n",
        "from google.colab import drive\n",
        "drive.mount('/content/drive')"
      ],
      "execution_count": 1,
      "outputs": [
        {
          "output_type": "stream",
          "text": [
            "Mounted at /content/drive\n"
          ],
          "name": "stdout"
        }
      ]
    },
    {
      "cell_type": "code",
      "metadata": {
        "id": "Osuvt61m5bcj"
      },
      "source": [
        "# load dependencies\n",
        "import cv2\n",
        "import os\n",
        "import glob\n",
        "import random\n",
        "import numpy as np\n",
        "import pandas as pd\n",
        "import seaborn as sns\n",
        "import matplotlib.pyplot as plt\n",
        "%matplotlib inline\n",
        "from pathlib import Path\n",
        "\n",
        "import keras\n",
        "from keras.preprocessing import image\n",
        "from keras.models import Sequential\n",
        "from keras.layers import Dense,Dropout,Flatten\n",
        "\n",
        "import tensorflow as tf\n",
        "from tensorflow.keras.optimizers import Adam, RMSprop"
      ],
      "execution_count": 63,
      "outputs": []
    },
    {
      "cell_type": "markdown",
      "metadata": {
        "id": "HXkPHPWImw9x"
      },
      "source": [
        "1. make a variable data_path and assign flowers directory of it\n",
        "2. make a variable categories and assign list of all classes to it\n",
        "3. create function for input and output\n",
        "4. in the same function convert rgb img into grayscale, also resize all images to 224\n",
        "5. store images in input and labels in output\n",
        "6. convert input into numpy arrays and scale down by dividing to 255\n",
        "7. using keras to_categorical categorize the output\n",
        "8. follow same preprocessing steps from here\n"
      ]
    },
    {
      "cell_type": "code",
      "metadata": {
        "id": "U7wxh4KjLggX"
      },
      "source": [
        "# accessing the data folder and subfolders\n",
        "data_path = Path(\"/content/drive/MyDrive/flowers\")\n",
        "dirs = data_path.glob('*')"
      ],
      "execution_count": 4,
      "outputs": []
    },
    {
      "cell_type": "code",
      "metadata": {
        "colab": {
          "base_uri": "https://localhost:8080/"
        },
        "id": "ZcJnQQj3sQg8",
        "outputId": "5cd19dde-b44c-467c-fece-2773b723726c"
      },
      "source": [
        "# list of features and labels\n",
        "data = []\n",
        "img_size = 256\n",
        "\n",
        "def make_data():\n",
        "  for folder_dir in dirs:\n",
        "      label= str(folder_dir).split('/')[-1]\n",
        "      print(label)\n",
        "\n",
        "      for image_path in folder_dir.glob('*.jpg'):\n",
        "        img = image.load_img(image_path, target_size=(img_size,img_size))\n",
        "        img_array = image.img_to_array(img)\n",
        "        gray_img = tf.image.rgb_to_grayscale(img_array)\n",
        "        data.append([gray_img, label])\n",
        "\n",
        "make_data()"
      ],
      "execution_count": 5,
      "outputs": [
        {
          "output_type": "stream",
          "text": [
            "daisy\n",
            "dandelion\n",
            "rose\n",
            "sunflower\n",
            "tulip\n"
          ],
          "name": "stdout"
        }
      ]
    },
    {
      "cell_type": "code",
      "metadata": {
        "colab": {
          "base_uri": "https://localhost:8080/"
        },
        "id": "nQekiIual0Sd",
        "outputId": "626ff3ad-f2d2-4d58-cb03-b5678e030941"
      },
      "source": [
        "len(data)"
      ],
      "execution_count": 6,
      "outputs": [
        {
          "output_type": "execute_result",
          "data": {
            "text/plain": [
              "4323"
            ]
          },
          "metadata": {
            "tags": []
          },
          "execution_count": 6
        }
      ]
    },
    {
      "cell_type": "code",
      "metadata": {
        "id": "SM5AUzEDmrB5"
      },
      "source": [
        "# function to separate features and labels from the data\n",
        "def load_data():\n",
        "  np.random.shuffle(data)\n",
        "\n",
        "  features = []\n",
        "  labels = []\n",
        "  for img, label in data:\n",
        "    features.append(img)\n",
        "    labels.append(label)\n",
        "\n",
        "  # converting lists into numpy arrays\n",
        "  features = np.array(features, dtype=np.float32)\n",
        "  labels = np.array(labels)\n",
        "\n",
        "  return [features, labels]"
      ],
      "execution_count": 7,
      "outputs": []
    },
    {
      "cell_type": "code",
      "metadata": {
        "id": "gyjxU9wTmq7h"
      },
      "source": [
        "# unpacking features, labels from load_data\n",
        "(features, labels) = load_data()"
      ],
      "execution_count": 8,
      "outputs": []
    },
    {
      "cell_type": "code",
      "metadata": {
        "colab": {
          "base_uri": "https://localhost:8080/"
        },
        "id": "jkJwZPKJmqwS",
        "outputId": "9a6d20f7-c203-4eea-9ded-427eed71e43b"
      },
      "source": [
        "print(len(features), len(labels))"
      ],
      "execution_count": 9,
      "outputs": [
        {
          "output_type": "stream",
          "text": [
            "4323 4323\n"
          ],
          "name": "stdout"
        }
      ]
    },
    {
      "cell_type": "code",
      "metadata": {
        "colab": {
          "base_uri": "https://localhost:8080/"
        },
        "id": "5kVNDQx_xTTZ",
        "outputId": "3ffedb81-ea79-4cd2-b50b-45e2c4d3e987"
      },
      "source": [
        "features.shape"
      ],
      "execution_count": 12,
      "outputs": [
        {
          "output_type": "execute_result",
          "data": {
            "text/plain": [
              "(4323, 256, 256, 1)"
            ]
          },
          "metadata": {
            "tags": []
          },
          "execution_count": 12
        }
      ]
    },
    {
      "cell_type": "code",
      "metadata": {
        "colab": {
          "base_uri": "https://localhost:8080/"
        },
        "id": "CRk_cCLksswL",
        "outputId": "14b107ed-2dea-41eb-8276-7f8192fda6df"
      },
      "source": [
        "labels.shape"
      ],
      "execution_count": 13,
      "outputs": [
        {
          "output_type": "execute_result",
          "data": {
            "text/plain": [
              "(4323,)"
            ]
          },
          "metadata": {
            "tags": []
          },
          "execution_count": 13
        }
      ]
    },
    {
      "cell_type": "code",
      "metadata": {
        "id": "_QnTok4_YusO"
      },
      "source": [
        "# drawing some random flower images\n",
        "def draw_flower():\n",
        "  fig,ax=plt.subplots(5,2)\n",
        "  fig.set_size_inches(15,15)\n",
        "\n",
        "  for i in range(5):\n",
        "    for j in range(2):\n",
        "      l = random.randint(0, len(labels))\n",
        "      seq_img = features.squeeze()\n",
        "      ax[i,j].imshow(seq_img[l])\n",
        "      ax[i,j].set_title(labels[l])\n",
        "  plt.tight_layout()\n",
        "\n",
        "draw_flower()"
      ],
      "execution_count": null,
      "outputs": []
    },
    {
      "cell_type": "code",
      "metadata": {
        "id": "f9--10alY0lc"
      },
      "source": [
        "# splitting data into 60% training set and 40% test set\n",
        "from sklearn.model_selection import train_test_split\n",
        "\n",
        "train_data, test_data, train_labels, test_labels = train_test_split(\n",
        "                                                            features,\n",
        "                                                            labels,\n",
        "                                                            test_size = 0.40,\n",
        "                                                            random_state=42)"
      ],
      "execution_count": 14,
      "outputs": []
    },
    {
      "cell_type": "code",
      "metadata": {
        "colab": {
          "base_uri": "https://localhost:8080/"
        },
        "id": "uCcB0OF65XaC",
        "outputId": "50105b84-3dfd-4f1a-c0d8-40de86366928"
      },
      "source": [
        "print(train_data.shape, test_data.shape)"
      ],
      "execution_count": 15,
      "outputs": [
        {
          "output_type": "stream",
          "text": [
            "(2593, 256, 256, 1) (1730, 256, 256, 1)\n"
          ],
          "name": "stdout"
        }
      ]
    },
    {
      "cell_type": "code",
      "metadata": {
        "colab": {
          "base_uri": "https://localhost:8080/"
        },
        "id": "3W2ZBHAs4LxF",
        "outputId": "f0cc8854-cf3a-4e8e-9ab7-8be3af6286ba"
      },
      "source": [
        "print(train_labels.shape, test_labels.shape)"
      ],
      "execution_count": 16,
      "outputs": [
        {
          "output_type": "stream",
          "text": [
            "(2593,) (1730,)\n"
          ],
          "name": "stdout"
        }
      ]
    },
    {
      "cell_type": "code",
      "metadata": {
        "id": "-1f7DNMX4VOB"
      },
      "source": [
        "# reshaping and scaling train/test data\n",
        "image_size = train_data.shape[1]\n",
        "\n",
        "# reshape\n",
        "train_data = train_data.reshape((-1,image_size*image_size))\n",
        "test_data = test_data.reshape((-1,image_size*image_size))\n",
        "\n",
        "# scale down\n",
        "train_data = train_data/255.0\n",
        "test_data = test_data/255.0"
      ],
      "execution_count": 17,
      "outputs": []
    },
    {
      "cell_type": "code",
      "metadata": {
        "colab": {
          "base_uri": "https://localhost:8080/"
        },
        "id": "fnfGmAOp48tj",
        "outputId": "69f64aad-2959-470a-a906-de08bc9e7249"
      },
      "source": [
        "print(train_data.shape, test_data.shape)"
      ],
      "execution_count": 18,
      "outputs": [
        {
          "output_type": "stream",
          "text": [
            "(2593, 65536) (1730, 65536)\n"
          ],
          "name": "stdout"
        }
      ]
    },
    {
      "cell_type": "code",
      "metadata": {
        "id": "VqoyvX6w76CC"
      },
      "source": [
        "# encoding labels\n",
        "from sklearn.preprocessing import LabelEncoder\n",
        " \n",
        "# creating encoder\n",
        "encoder = LabelEncoder()\n",
        "# fit and transform labels\n",
        "train_labels = encoder.fit_transform(train_labels)\n",
        "test_labels = encoder.fit_transform(test_labels)"
      ],
      "execution_count": 19,
      "outputs": []
    },
    {
      "cell_type": "code",
      "metadata": {
        "colab": {
          "base_uri": "https://localhost:8080/"
        },
        "id": "yZXwW_LrBxyL",
        "outputId": "4238fba2-0a33-4ef7-ddb7-63f88cb59c1c"
      },
      "source": [
        "print(train_labels.shape, test_labels.shape)"
      ],
      "execution_count": 20,
      "outputs": [
        {
          "output_type": "stream",
          "text": [
            "(2593,) (1730,)\n"
          ],
          "name": "stdout"
        }
      ]
    },
    {
      "cell_type": "code",
      "metadata": {
        "id": "-vxhX1oJ78rJ"
      },
      "source": [
        "# baseline model definition\n",
        "def baseline_model():\n",
        "  model = Sequential([\n",
        "      Dense(150, activation='relu', input_shape=(train_data.shape[-1],)),\n",
        "      Dense(100, activation='relu'),\n",
        "      Dense(50, activation='softmax'),\n",
        "      Dense(5, activation='softmax')\n",
        "  ])\n",
        "\n",
        "\n",
        "  # compile the model\n",
        "  model.compile(optimizer=Adam(0.01), loss='sparse_categorical_crossentropy', metrics=['accuracy'])\n",
        "\n",
        "  return model"
      ],
      "execution_count": 86,
      "outputs": []
    },
    {
      "cell_type": "code",
      "metadata": {
        "colab": {
          "base_uri": "https://localhost:8080/"
        },
        "id": "aiXjyw8X-Xia",
        "outputId": "44e94256-46d7-4863-e0b6-176c2461ef30"
      },
      "source": [
        "model = baseline_model()\n",
        "model.summary()"
      ],
      "execution_count": 87,
      "outputs": [
        {
          "output_type": "stream",
          "text": [
            "Model: \"sequential_16\"\n",
            "_________________________________________________________________\n",
            "Layer (type)                 Output Shape              Param #   \n",
            "=================================================================\n",
            "dense_60 (Dense)             (None, 150)               9830550   \n",
            "_________________________________________________________________\n",
            "dense_61 (Dense)             (None, 100)               15100     \n",
            "_________________________________________________________________\n",
            "dense_62 (Dense)             (None, 50)                5050      \n",
            "_________________________________________________________________\n",
            "dense_63 (Dense)             (None, 5)                 255       \n",
            "=================================================================\n",
            "Total params: 9,850,955\n",
            "Trainable params: 9,850,955\n",
            "Non-trainable params: 0\n",
            "_________________________________________________________________\n"
          ],
          "name": "stdout"
        }
      ]
    },
    {
      "cell_type": "code",
      "metadata": {
        "colab": {
          "base_uri": "https://localhost:8080/"
        },
        "id": "eNry4gqEGoDv",
        "outputId": "eb5a4a12-c8a3-4a84-d783-60e193c9a863"
      },
      "source": [
        "# train model\n",
        "model.fit(train_data, train_labels, epochs=70, batch_size=138)"
      ],
      "execution_count": 88,
      "outputs": [
        {
          "output_type": "stream",
          "text": [
            "Epoch 1/70\n",
            "19/19 [==============================] - 4s 176ms/step - loss: 1.6168 - accuracy: 0.2057\n",
            "Epoch 2/70\n",
            "19/19 [==============================] - 3s 177ms/step - loss: 1.5987 - accuracy: 0.2367\n",
            "Epoch 3/70\n",
            "19/19 [==============================] - 3s 175ms/step - loss: 1.5935 - accuracy: 0.2354\n",
            "Epoch 4/70\n",
            "19/19 [==============================] - 3s 177ms/step - loss: 1.5983 - accuracy: 0.2312\n",
            "Epoch 5/70\n",
            "19/19 [==============================] - 3s 177ms/step - loss: 1.5998 - accuracy: 0.2409\n",
            "Epoch 6/70\n",
            "19/19 [==============================] - 3s 173ms/step - loss: 1.5949 - accuracy: 0.2233\n",
            "Epoch 7/70\n",
            "19/19 [==============================] - 3s 175ms/step - loss: 1.6003 - accuracy: 0.2435\n",
            "Epoch 8/70\n",
            "19/19 [==============================] - 3s 174ms/step - loss: 1.5976 - accuracy: 0.2493\n",
            "Epoch 9/70\n",
            "19/19 [==============================] - 3s 170ms/step - loss: 1.5998 - accuracy: 0.2280\n",
            "Epoch 10/70\n",
            "19/19 [==============================] - 3s 176ms/step - loss: 1.5973 - accuracy: 0.2308\n",
            "Epoch 11/70\n",
            "19/19 [==============================] - 3s 173ms/step - loss: 1.5928 - accuracy: 0.2514\n",
            "Epoch 12/70\n",
            "19/19 [==============================] - 3s 169ms/step - loss: 1.5995 - accuracy: 0.2228\n",
            "Epoch 13/70\n",
            "19/19 [==============================] - 3s 171ms/step - loss: 1.5980 - accuracy: 0.2371\n",
            "Epoch 14/70\n",
            "19/19 [==============================] - 3s 172ms/step - loss: 1.6003 - accuracy: 0.2432\n",
            "Epoch 15/70\n",
            "19/19 [==============================] - 3s 172ms/step - loss: 1.5975 - accuracy: 0.2459\n",
            "Epoch 16/70\n",
            "19/19 [==============================] - 3s 168ms/step - loss: 1.5937 - accuracy: 0.2467\n",
            "Epoch 17/70\n",
            "19/19 [==============================] - 3s 171ms/step - loss: 1.5981 - accuracy: 0.2407\n",
            "Epoch 18/70\n",
            "19/19 [==============================] - 3s 170ms/step - loss: 1.5991 - accuracy: 0.2441\n",
            "Epoch 19/70\n",
            "19/19 [==============================] - 3s 171ms/step - loss: 1.5999 - accuracy: 0.2292\n",
            "Epoch 20/70\n",
            "19/19 [==============================] - 3s 174ms/step - loss: 1.5992 - accuracy: 0.2263\n",
            "Epoch 21/70\n",
            "19/19 [==============================] - 3s 176ms/step - loss: 1.5991 - accuracy: 0.2420\n",
            "Epoch 22/70\n",
            "19/19 [==============================] - 3s 174ms/step - loss: 1.5967 - accuracy: 0.2198\n",
            "Epoch 23/70\n",
            "19/19 [==============================] - 3s 173ms/step - loss: 1.6002 - accuracy: 0.2348\n",
            "Epoch 24/70\n",
            "19/19 [==============================] - 3s 170ms/step - loss: 1.5979 - accuracy: 0.2393\n",
            "Epoch 25/70\n",
            "19/19 [==============================] - 3s 170ms/step - loss: 1.5957 - accuracy: 0.2374\n",
            "Epoch 26/70\n",
            "19/19 [==============================] - 3s 173ms/step - loss: 1.6001 - accuracy: 0.2484\n",
            "Epoch 27/70\n",
            "19/19 [==============================] - 3s 171ms/step - loss: 1.5959 - accuracy: 0.2370\n",
            "Epoch 28/70\n",
            "19/19 [==============================] - 3s 175ms/step - loss: 1.6026 - accuracy: 0.2157\n",
            "Epoch 29/70\n",
            "19/19 [==============================] - 3s 175ms/step - loss: 1.5946 - accuracy: 0.2392\n",
            "Epoch 30/70\n",
            "19/19 [==============================] - 3s 176ms/step - loss: 1.5981 - accuracy: 0.2397\n",
            "Epoch 31/70\n",
            "19/19 [==============================] - 3s 174ms/step - loss: 1.5963 - accuracy: 0.2538\n",
            "Epoch 32/70\n",
            "19/19 [==============================] - 3s 179ms/step - loss: 1.6014 - accuracy: 0.2353\n",
            "Epoch 33/70\n",
            "19/19 [==============================] - 3s 175ms/step - loss: 1.5963 - accuracy: 0.2398\n",
            "Epoch 34/70\n",
            "19/19 [==============================] - 3s 173ms/step - loss: 1.5906 - accuracy: 0.2480\n",
            "Epoch 35/70\n",
            "19/19 [==============================] - 3s 174ms/step - loss: 1.5984 - accuracy: 0.2270\n",
            "Epoch 36/70\n",
            "19/19 [==============================] - 3s 176ms/step - loss: 1.6006 - accuracy: 0.2216\n",
            "Epoch 37/70\n",
            "19/19 [==============================] - 4s 188ms/step - loss: 1.5947 - accuracy: 0.2450\n",
            "Epoch 38/70\n",
            "19/19 [==============================] - 4s 185ms/step - loss: 1.5993 - accuracy: 0.2337\n",
            "Epoch 39/70\n",
            "19/19 [==============================] - 3s 170ms/step - loss: 1.5943 - accuracy: 0.2374\n",
            "Epoch 40/70\n",
            "19/19 [==============================] - 3s 172ms/step - loss: 1.5979 - accuracy: 0.2422\n",
            "Epoch 41/70\n",
            "19/19 [==============================] - 3s 176ms/step - loss: 1.5979 - accuracy: 0.2414\n",
            "Epoch 42/70\n",
            "19/19 [==============================] - 3s 169ms/step - loss: 1.5943 - accuracy: 0.2369\n",
            "Epoch 43/70\n",
            "19/19 [==============================] - 3s 171ms/step - loss: 1.5964 - accuracy: 0.2366\n",
            "Epoch 44/70\n",
            "19/19 [==============================] - 3s 172ms/step - loss: 1.5955 - accuracy: 0.2438\n",
            "Epoch 45/70\n",
            "19/19 [==============================] - 3s 170ms/step - loss: 1.5962 - accuracy: 0.2367\n",
            "Epoch 46/70\n",
            "19/19 [==============================] - 3s 173ms/step - loss: 1.5980 - accuracy: 0.2320\n",
            "Epoch 47/70\n",
            "19/19 [==============================] - 3s 171ms/step - loss: 1.5965 - accuracy: 0.2421\n",
            "Epoch 48/70\n",
            "19/19 [==============================] - 3s 170ms/step - loss: 1.5937 - accuracy: 0.2381\n",
            "Epoch 49/70\n",
            "19/19 [==============================] - 3s 172ms/step - loss: 1.5952 - accuracy: 0.2479\n",
            "Epoch 50/70\n",
            "19/19 [==============================] - 3s 175ms/step - loss: 1.5963 - accuracy: 0.2381\n",
            "Epoch 51/70\n",
            "19/19 [==============================] - 3s 174ms/step - loss: 1.5971 - accuracy: 0.2511\n",
            "Epoch 52/70\n",
            "19/19 [==============================] - 3s 173ms/step - loss: 1.5998 - accuracy: 0.2228\n",
            "Epoch 53/70\n",
            "19/19 [==============================] - 3s 172ms/step - loss: 1.5982 - accuracy: 0.2462\n",
            "Epoch 54/70\n",
            "19/19 [==============================] - 3s 168ms/step - loss: 1.5977 - accuracy: 0.2236\n",
            "Epoch 55/70\n",
            "19/19 [==============================] - 3s 171ms/step - loss: 1.5973 - accuracy: 0.2368\n",
            "Epoch 56/70\n",
            "19/19 [==============================] - 3s 168ms/step - loss: 1.6002 - accuracy: 0.2222\n",
            "Epoch 57/70\n",
            "19/19 [==============================] - 3s 171ms/step - loss: 1.5952 - accuracy: 0.2383\n",
            "Epoch 58/70\n",
            "19/19 [==============================] - 3s 171ms/step - loss: 1.5966 - accuracy: 0.2417\n",
            "Epoch 59/70\n",
            "19/19 [==============================] - 3s 172ms/step - loss: 1.5978 - accuracy: 0.2353\n",
            "Epoch 60/70\n",
            "19/19 [==============================] - 3s 168ms/step - loss: 1.5989 - accuracy: 0.2221\n",
            "Epoch 61/70\n",
            "19/19 [==============================] - 3s 172ms/step - loss: 1.5960 - accuracy: 0.2299\n",
            "Epoch 62/70\n",
            "19/19 [==============================] - 3s 174ms/step - loss: 1.5948 - accuracy: 0.2348\n",
            "Epoch 63/70\n",
            "19/19 [==============================] - 3s 170ms/step - loss: 1.5971 - accuracy: 0.2483\n",
            "Epoch 64/70\n",
            "19/19 [==============================] - 3s 171ms/step - loss: 1.5948 - accuracy: 0.2427\n",
            "Epoch 65/70\n",
            "19/19 [==============================] - 3s 174ms/step - loss: 1.5915 - accuracy: 0.2532\n",
            "Epoch 66/70\n",
            "19/19 [==============================] - 3s 169ms/step - loss: 1.5931 - accuracy: 0.2351\n",
            "Epoch 67/70\n",
            "19/19 [==============================] - 3s 171ms/step - loss: 1.5982 - accuracy: 0.2422\n",
            "Epoch 68/70\n",
            "19/19 [==============================] - 3s 172ms/step - loss: 1.6018 - accuracy: 0.2256\n",
            "Epoch 69/70\n",
            "19/19 [==============================] - 3s 182ms/step - loss: 1.5984 - accuracy: 0.2363\n",
            "Epoch 70/70\n",
            "19/19 [==============================] - 3s 170ms/step - loss: 1.6014 - accuracy: 0.2301\n"
          ],
          "name": "stdout"
        },
        {
          "output_type": "execute_result",
          "data": {
            "text/plain": [
              "<tensorflow.python.keras.callbacks.History at 0x7faa56066390>"
            ]
          },
          "metadata": {
            "tags": []
          },
          "execution_count": 88
        }
      ]
    },
    {
      "cell_type": "code",
      "metadata": {
        "id": "oA5POU0KN4Aj",
        "colab": {
          "base_uri": "https://localhost:8080/"
        },
        "outputId": "a462c9b9-c945-4cfc-bc16-769fb117f3e2"
      },
      "source": [
        "score = model.evaluate(test_data, test_labels)"
      ],
      "execution_count": 89,
      "outputs": [
        {
          "output_type": "stream",
          "text": [
            "55/55 [==============================] - 1s 23ms/step - loss: 1.6031 - accuracy: 0.2116\n"
          ],
          "name": "stdout"
        }
      ]
    },
    {
      "cell_type": "code",
      "metadata": {
        "id": "kxZNRdHPupn0"
      },
      "source": [
        "pred = model.predict(test_data)"
      ],
      "execution_count": 90,
      "outputs": []
    },
    {
      "cell_type": "code",
      "metadata": {
        "colab": {
          "base_uri": "https://localhost:8080/"
        },
        "id": "DIHfQgex8Q8P",
        "outputId": "91f6f17c-246e-44b5-f7fe-aecb556fc8ac"
      },
      "source": [
        "pred"
      ],
      "execution_count": 91,
      "outputs": [
        {
          "output_type": "execute_result",
          "data": {
            "text/plain": [
              "array([[0.16851658, 0.23409915, 0.1830721 , 0.17832024, 0.23599185],\n",
              "       [0.16851658, 0.23409915, 0.1830721 , 0.17832024, 0.23599185],\n",
              "       [0.16851658, 0.23409915, 0.1830721 , 0.17832024, 0.23599185],\n",
              "       ...,\n",
              "       [0.16851658, 0.23409915, 0.1830721 , 0.17832024, 0.23599185],\n",
              "       [0.16851658, 0.23409915, 0.1830721 , 0.17832024, 0.23599185],\n",
              "       [0.16851658, 0.23409915, 0.1830721 , 0.17832026, 0.23599185]],\n",
              "      dtype=float32)"
            ]
          },
          "metadata": {
            "tags": []
          },
          "execution_count": 91
        }
      ]
    },
    {
      "cell_type": "code",
      "metadata": {
        "id": "sMCRVoZc8SoO"
      },
      "source": [
        ""
      ],
      "execution_count": null,
      "outputs": []
    }
  ]
}